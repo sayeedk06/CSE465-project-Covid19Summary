{
  "nbformat": 4,
  "nbformat_minor": 0,
  "metadata": {
    "colab": {
      "name": "SettingupROUGE.ipynb",
      "provenance": []
    },
    "kernelspec": {
      "name": "python3",
      "display_name": "Python 3"
    }
  },
  "cells": [
    {
      "cell_type": "code",
      "metadata": {
        "id": "qBmED2ndoKVP",
        "colab_type": "code",
        "colab": {
          "base_uri": "https://localhost:8080/",
          "height": 104
        },
        "outputId": "ca353bb3-d0b4-4892-c966-b8d4d4159549"
      },
      "source": [
        "!pip install py-rouge"
      ],
      "execution_count": null,
      "outputs": [
        {
          "output_type": "stream",
          "text": [
            "Collecting py-rouge\n",
            "\u001b[?25l  Downloading https://files.pythonhosted.org/packages/9c/1d/0bdbaf559fb7afe32308ebc84a2028600988212d7eb7fb9f69c4e829e4a0/py_rouge-1.1-py3-none-any.whl (56kB)\n",
            "\r\u001b[K     |█████▊                          | 10kB 18.5MB/s eta 0:00:01\r\u001b[K     |███████████▌                    | 20kB 2.8MB/s eta 0:00:01\r\u001b[K     |█████████████████▎              | 30kB 3.9MB/s eta 0:00:01\r\u001b[K     |███████████████████████         | 40kB 4.2MB/s eta 0:00:01\r\u001b[K     |████████████████████████████▉   | 51kB 3.3MB/s eta 0:00:01\r\u001b[K     |████████████████████████████████| 61kB 2.7MB/s \n",
            "\u001b[?25hInstalling collected packages: py-rouge\n",
            "Successfully installed py-rouge-1.1\n"
          ],
          "name": "stdout"
        }
      ]
    },
    {
      "cell_type": "code",
      "metadata": {
        "id": "PGT3bc1U0TYM",
        "colab_type": "code",
        "colab": {}
      },
      "source": [
        "import rouge"
      ],
      "execution_count": null,
      "outputs": []
    },
    {
      "cell_type": "code",
      "metadata": {
        "id": "CUVt_oEx0KEk",
        "colab_type": "code",
        "colab": {}
      },
      "source": [
        "hypothesis_1 = \"King Norodom Sihanouk has declined requests to chair a summit of Cambodia 's top political leaders , saying the meeting would not bring any progress in deadlocked negotiations to form a government .\\nGovernment and opposition parties have asked King Norodom Sihanouk to host a summit meeting after a series of post-election negotiations between the two opposition groups and Hun Sen 's party to form a new government failed .\\nHun Sen 's ruling party narrowly won a majority in elections in July , but the opposition _ claiming widespread intimidation and fraud _ has denied Hun Sen the two-thirds vote in parliament required to approve the next government .\\n\"\n",
        "references_1 = [\"Prospects were dim for resolution of the political crisis in Cambodia in October 1998.\\nPrime Minister Hun Sen insisted that talks take place in Cambodia while opposition leaders Ranariddh and Sam Rainsy, fearing arrest at home, wanted them abroad.\\nKing Sihanouk declined to chair talks in either place.\\nA U.S. House resolution criticized Hun Sen's regime while the opposition tried to cut off his access to loans.\\nBut in November the King announced a coalition government with Hun Sen heading the executive and Ranariddh leading the parliament.\\nLeft out, Sam Rainsy sought the King's assurance of Hun Sen's promise of safety and freedom for all politicians.\",\n",
        "                    \"Cambodian prime minister Hun Sen rejects demands of 2 opposition parties for talks in Beijing after failing to win a 2/3 majority in recent elections.\\nSihanouk refuses to host talks in Beijing.\\nOpposition parties ask the Asian Development Bank to stop loans to Hun Sen's government.\\nCCP defends Hun Sen to the US Senate.\\nFUNCINPEC refuses to share the presidency.\\nHun Sen and Ranariddh eventually form a coalition at summit convened by Sihanouk.\\nHun Sen remains prime minister, Ranariddh is president of the national assembly, and a new senate will be formed.\\nOpposition leader Rainsy left out.\\nHe seeks strong assurance of safety should he return to Cambodia.\\n\",\n",
        "                    ]"
      ],
      "execution_count": null,
      "outputs": []
    },
    {
      "cell_type": "code",
      "metadata": {
        "id": "0GJF29Xr0PJ4",
        "colab_type": "code",
        "colab": {}
      },
      "source": [
        "apply_avg = False\n",
        "apply_best= True\n",
        "evaluator = rouge.Rouge(metrics=['rouge-n', 'rouge-l', 'rouge-w'],\n",
        "                           max_n=4,\n",
        "                           limit_length=True,\n",
        "                           length_limit=100,\n",
        "                           length_limit_type='words',\n",
        "                           apply_avg=apply_avg,\n",
        "                           apply_best=apply_best,\n",
        "                           alpha=0.5, # Default F1_score\n",
        "                           weight_factor=1.2,\n",
        "                           stemming=True)"
      ],
      "execution_count": null,
      "outputs": []
    },
    {
      "cell_type": "code",
      "metadata": {
        "id": "ubMKyS0i0ZJT",
        "colab_type": "code",
        "colab": {
          "base_uri": "https://localhost:8080/",
          "height": 69
        },
        "outputId": "a5bd9786-9ec3-4594-aea1-c67435af6292"
      },
      "source": [
        "import nltk\n",
        "nltk.download('punkt')"
      ],
      "execution_count": null,
      "outputs": [
        {
          "output_type": "stream",
          "text": [
            "[nltk_data] Downloading package punkt to /root/nltk_data...\n",
            "[nltk_data]   Unzipping tokenizers/punkt.zip.\n"
          ],
          "name": "stdout"
        },
        {
          "output_type": "execute_result",
          "data": {
            "text/plain": [
              "True"
            ]
          },
          "metadata": {
            "tags": []
          },
          "execution_count": 31
        }
      ]
    },
    {
      "cell_type": "code",
      "metadata": {
        "id": "BTlsl4940Qso",
        "colab_type": "code",
        "colab": {}
      },
      "source": [
        "scores = evaluator.get_scores(hypothesis_1, references_1)"
      ],
      "execution_count": null,
      "outputs": []
    },
    {
      "cell_type": "code",
      "metadata": {
        "id": "RWqZM9cf0WrM",
        "colab_type": "code",
        "colab": {
          "base_uri": "https://localhost:8080/",
          "height": 260
        },
        "outputId": "9068956f-aac8-4834-c4b0-ac7782bf93c8"
      },
      "source": [
        "scores"
      ],
      "execution_count": null,
      "outputs": [
        {
          "output_type": "execute_result",
          "data": {
            "text/plain": [
              "{'rouge-1': {'f': 0.40703517587939697, 'p': 0.421875, 'r': 0.3932038834951456},\n",
              " 'rouge-2': {'f': 0.08121827411167513,\n",
              "  'p': 0.08421052631578947,\n",
              "  'r': 0.0784313725490196},\n",
              " 'rouge-3': {'f': 0.015384615384615384,\n",
              "  'p': 0.015957446808510637,\n",
              "  'r': 0.01485148514851485},\n",
              " 'rouge-4': {'f': 0.0, 'p': 0.0, 'r': 0.0},\n",
              " 'rouge-l': {'f': 0.4286506751662163,\n",
              "  'p': 0.44159694112518033,\n",
              "  'r': 0.41644187838363894},\n",
              " 'rouge-w': {'f': 0.16310174069342157,\n",
              "  'p': 0.2342173372079929,\n",
              "  'r': 0.12511344561970078}}"
            ]
          },
          "metadata": {
            "tags": []
          },
          "execution_count": 15
        }
      ]
    },
    {
      "cell_type": "code",
      "metadata": {
        "id": "F7VQpwqN07FJ",
        "colab_type": "code",
        "colab": {}
      },
      "source": [
        "def prepare_results(p, r, f):\n",
        "    return '\\t{}:\\t{}: {:5.2f}\\t{}: {:5.2f}\\t{}: {:5.2f}'.format(metric, 'P', 100.0 * p, 'R', 100.0 * r, 'F1', 100.0 * f)\n"
      ],
      "execution_count": null,
      "outputs": []
    },
    {
      "cell_type": "code",
      "metadata": {
        "id": "xqrHroF90evf",
        "colab_type": "code",
        "colab": {
          "base_uri": "https://localhost:8080/",
          "height": 121
        },
        "outputId": "0974bfc6-e905-4c85-fc13-a9a5d13ea1da"
      },
      "source": [
        "for metric, results in sorted(scores.items(), key=lambda x: x[0]):\n",
        "        if not apply_avg and not apply_best: # value is a type of list as we evaluate each summary vs each reference\n",
        "            for hypothesis_id, results_per_ref in enumerate(results):\n",
        "                nb_references = len(results_per_ref['p'])\n",
        "                for reference_id in range(nb_references):\n",
        "                    print('\\tHypothesis #{} & Reference #{}: '.format(hypothesis_id, reference_id))\n",
        "                    print('\\t' + prepare_results(results_per_ref['p'][reference_id], results_per_ref['r'][reference_id], results_per_ref['f'][reference_id]))\n",
        "            print()\n",
        "        else:\n",
        "            print(prepare_results(results['p'], results['r'], results['f']))"
      ],
      "execution_count": null,
      "outputs": [
        {
          "output_type": "stream",
          "text": [
            "\trouge-1:\tP: 42.19\tR: 39.32\tF1: 40.70\n",
            "\trouge-2:\tP:  8.42\tR:  7.84\tF1:  8.12\n",
            "\trouge-3:\tP:  1.60\tR:  1.49\tF1:  1.54\n",
            "\trouge-4:\tP:  0.00\tR:  0.00\tF1:  0.00\n",
            "\trouge-l:\tP: 44.16\tR: 41.64\tF1: 42.87\n",
            "\trouge-w:\tP: 23.42\tR: 12.51\tF1: 16.31\n"
          ],
          "name": "stdout"
        }
      ]
    },
    {
      "cell_type": "code",
      "metadata": {
        "id": "mKNFvctq02iK",
        "colab_type": "code",
        "colab": {}
      },
      "source": [
        ""
      ],
      "execution_count": null,
      "outputs": []
    },
    {
      "cell_type": "code",
      "metadata": {
        "id": "o1_67j68HZDU",
        "colab_type": "code",
        "colab": {
          "base_uri": "https://localhost:8080/",
          "height": 124
        },
        "outputId": "830a6582-d58b-4398-c2a3-520e29c43e23"
      },
      "source": [
        "from google.colab import drive\n",
        "drive.mount('/content/drive')"
      ],
      "execution_count": null,
      "outputs": [
        {
          "output_type": "stream",
          "text": [
            "Go to this URL in a browser: https://accounts.google.com/o/oauth2/auth?client_id=947318989803-6bn6qk8qdgf4n4g3pfee6491hc0brc4i.apps.googleusercontent.com&redirect_uri=urn%3aietf%3awg%3aoauth%3a2.0%3aoob&response_type=code&scope=email%20https%3a%2f%2fwww.googleapis.com%2fauth%2fdocs.test%20https%3a%2f%2fwww.googleapis.com%2fauth%2fdrive%20https%3a%2f%2fwww.googleapis.com%2fauth%2fdrive.photos.readonly%20https%3a%2f%2fwww.googleapis.com%2fauth%2fpeopleapi.readonly\n",
            "\n",
            "Enter your authorization code:\n",
            "··········\n",
            "Mounted at /content/drive\n"
          ],
          "name": "stdout"
        }
      ]
    },
    {
      "cell_type": "code",
      "metadata": {
        "id": "9D5cVbApzkZD",
        "colab_type": "code",
        "colab": {}
      },
      "source": [
        "import torch"
      ],
      "execution_count": null,
      "outputs": []
    },
    {
      "cell_type": "code",
      "metadata": {
        "id": "-D3zQB9QHZif",
        "colab_type": "code",
        "colab": {}
      },
      "source": [
        "\n",
        "inference = torch.load(\"/content/drive/My Drive/COVID-19/dataset/inference.pt\")"
      ],
      "execution_count": null,
      "outputs": []
    },
    {
      "cell_type": "code",
      "metadata": {
        "id": "-hl-ad75Hnw8",
        "colab_type": "code",
        "colab": {
          "base_uri": "https://localhost:8080/",
          "height": 34
        },
        "outputId": "a72d7bdd-0e81-4d93-c72e-f6c096d07d1e"
      },
      "source": [
        "inference.keys()"
      ],
      "execution_count": null,
      "outputs": [
        {
          "output_type": "execute_result",
          "data": {
            "text/plain": [
              "Index(['full', 'short', 'abstract'], dtype='object')"
            ]
          },
          "metadata": {
            "tags": []
          },
          "execution_count": 10
        }
      ]
    },
    {
      "cell_type": "code",
      "metadata": {
        "id": "G9hhUVCsHuPE",
        "colab_type": "code",
        "colab": {
          "base_uri": "https://localhost:8080/",
          "height": 424
        },
        "outputId": "f218b7cc-6318-4b86-e882-9330768301f6"
      },
      "source": [
        "inference"
      ],
      "execution_count": null,
      "outputs": [
        {
          "output_type": "execute_result",
          "data": {
            "text/html": [
              "<div>\n",
              "<style scoped>\n",
              "    .dataframe tbody tr th:only-of-type {\n",
              "        vertical-align: middle;\n",
              "    }\n",
              "\n",
              "    .dataframe tbody tr th {\n",
              "        vertical-align: top;\n",
              "    }\n",
              "\n",
              "    .dataframe thead th {\n",
              "        text-align: right;\n",
              "    }\n",
              "</style>\n",
              "<table border=\"1\" class=\"dataframe\">\n",
              "  <thead>\n",
              "    <tr style=\"text-align: right;\">\n",
              "      <th></th>\n",
              "      <th>full</th>\n",
              "      <th>short</th>\n",
              "      <th>abstract</th>\n",
              "    </tr>\n",
              "  </thead>\n",
              "  <tbody>\n",
              "    <tr>\n",
              "      <th>14125</th>\n",
              "      <td>Since the severe acute respiratory syndrome (S...</td>\n",
              "      <td>Since the severe acute respiratory syndrome (S...</td>\n",
              "      <td>Background: The spike glycoprotein (S) gene of...</td>\n",
              "    </tr>\n",
              "    <tr>\n",
              "      <th>3401</th>\n",
              "      <td>A swine-origin influenza A/H1N1 virus that aro...</td>\n",
              "      <td>A swine-origin influenza A/H1N1 virus that aro...</td>\n",
              "      <td>Influenza usually spreads through the human po...</td>\n",
              "    </tr>\n",
              "    <tr>\n",
              "      <th>29313</th>\n",
              "      <td>The smart adaptation of cities against differe...</td>\n",
              "      <td>The smart adaptation of cities against differe...</td>\n",
              "      <td>Touristic cities will suffer from COVID-19 eme...</td>\n",
              "    </tr>\n",
              "    <tr>\n",
              "      <th>12609</th>\n",
              "      <td>Influenza viruses cause serious global economi...</td>\n",
              "      <td>Influenza viruses cause serious global economi...</td>\n",
              "      <td>Background. Effective influenza surveillance r...</td>\n",
              "    </tr>\n",
              "    <tr>\n",
              "      <th>17432</th>\n",
              "      <td>a1111111111 a1111111111 a1111111111 a111111111...</td>\n",
              "      <td>a1111111111 a1111111111 a1111111111 a111111111...</td>\n",
              "      <td>Memory CD8 T cells can provide protection from...</td>\n",
              "    </tr>\n",
              "    <tr>\n",
              "      <th>...</th>\n",
              "      <td>...</td>\n",
              "      <td>...</td>\n",
              "      <td>...</td>\n",
              "    </tr>\n",
              "    <tr>\n",
              "      <th>3356</th>\n",
              "      <td>Because it involves a complex interaction betw...</td>\n",
              "      <td>Because it involves a complex interaction betw...</td>\n",
              "      <td>1 0 7 4 VOLUME 15 | NUMBER 8 | AUGUST 2012 nat...</td>\n",
              "    </tr>\n",
              "    <tr>\n",
              "      <th>19090</th>\n",
              "      <td>to present in the patient. For three days afte...</td>\n",
              "      <td>to present in the patient.For three days after...</td>\n",
              "      <td>As the Ebola outbreak continued to rage in West</td>\n",
              "    </tr>\n",
              "    <tr>\n",
              "      <th>37645</th>\n",
              "      <td>On December 31, 2019, China alerted the World ...</td>\n",
              "      <td>On December 31, 2019, China alerted the World ...</td>\n",
              "      <td>The first COVID-19 case in Brazil was confirme...</td>\n",
              "    </tr>\n",
              "    <tr>\n",
              "      <th>38365</th>\n",
              "      <td>in der WBCT Gruppe. Beim Propensity Score Matc...</td>\n",
              "      <td>in der WBCT Gruppe.Beim Propensity Score Match...</td>\n",
              "      <td>Hintergrund: Die pulmonale Hypertonie des Neug...</td>\n",
              "    </tr>\n",
              "    <tr>\n",
              "      <th>30582</th>\n",
              "      <td>Antimicrobial peptides (AMPs) produced by anim...</td>\n",
              "      <td>Antimicrobial peptides (AMPs) produced by anim...</td>\n",
              "      <td>The azurophilic granules of human neutrophils ...</td>\n",
              "    </tr>\n",
              "  </tbody>\n",
              "</table>\n",
              "<p>4612 rows × 3 columns</p>\n",
              "</div>"
            ],
            "text/plain": [
              "                                                    full  ...                                           abstract\n",
              "14125  Since the severe acute respiratory syndrome (S...  ...  Background: The spike glycoprotein (S) gene of...\n",
              "3401   A swine-origin influenza A/H1N1 virus that aro...  ...  Influenza usually spreads through the human po...\n",
              "29313  The smart adaptation of cities against differe...  ...  Touristic cities will suffer from COVID-19 eme...\n",
              "12609  Influenza viruses cause serious global economi...  ...  Background. Effective influenza surveillance r...\n",
              "17432  a1111111111 a1111111111 a1111111111 a111111111...  ...  Memory CD8 T cells can provide protection from...\n",
              "...                                                  ...  ...                                                ...\n",
              "3356   Because it involves a complex interaction betw...  ...  1 0 7 4 VOLUME 15 | NUMBER 8 | AUGUST 2012 nat...\n",
              "19090  to present in the patient. For three days afte...  ...    As the Ebola outbreak continued to rage in West\n",
              "37645  On December 31, 2019, China alerted the World ...  ...  The first COVID-19 case in Brazil was confirme...\n",
              "38365  in der WBCT Gruppe. Beim Propensity Score Matc...  ...  Hintergrund: Die pulmonale Hypertonie des Neug...\n",
              "30582  Antimicrobial peptides (AMPs) produced by anim...  ...  The azurophilic granules of human neutrophils ...\n",
              "\n",
              "[4612 rows x 3 columns]"
            ]
          },
          "metadata": {
            "tags": []
          },
          "execution_count": 11
        }
      ]
    },
    {
      "cell_type": "code",
      "metadata": {
        "id": "NrPLW_00Hvg_",
        "colab_type": "code",
        "colab": {}
      },
      "source": [
        "full = inference['full'].tolist()\n",
        "short = inference['short'].tolist()\n",
        "abstract = inference['abstract'].tolist()"
      ],
      "execution_count": null,
      "outputs": []
    },
    {
      "cell_type": "code",
      "metadata": {
        "id": "fo0mVUpTH8UW",
        "colab_type": "code",
        "colab": {}
      },
      "source": [
        "scores = evaluator.get_scores(short, abstract)"
      ],
      "execution_count": null,
      "outputs": []
    },
    {
      "cell_type": "code",
      "metadata": {
        "id": "Wb7VYgkxH-j8",
        "colab_type": "code",
        "colab": {
          "base_uri": "https://localhost:8080/",
          "height": 121
        },
        "outputId": "c2ebdd8d-81ae-432e-a962-732ce7990ab3"
      },
      "source": [
        "for metric, results in sorted(scores.items(), key=lambda x: x[0]):\n",
        "        if not apply_avg and not apply_best: # value is a type of list as we evaluate each summary vs each reference\n",
        "            for hypothesis_id, results_per_ref in enumerate(results):\n",
        "                nb_references = len(results_per_ref['p'])\n",
        "                for reference_id in range(nb_references):\n",
        "                    print('\\tHypothesis #{} & Reference #{}: '.format(hypothesis_id, reference_id))\n",
        "                    print('\\t' + prepare_results(results_per_ref['p'][reference_id], results_per_ref['r'][reference_id], results_per_ref['f'][reference_id]))\n",
        "            print()\n",
        "        else:\n",
        "            print(prepare_results(results['p'], results['r'], results['f']))"
      ],
      "execution_count": null,
      "outputs": [
        {
          "output_type": "stream",
          "text": [
            "\trouge-1:\tP: 30.28\tR: 37.20\tF1: 32.13\n",
            "\trouge-2:\tP:  9.72\tR: 12.16\tF1: 10.37\n",
            "\trouge-3:\tP:  5.92\tR:  7.39\tF1:  6.31\n",
            "\trouge-4:\tP:  4.53\tR:  5.60\tF1:  4.82\n",
            "\trouge-l:\tP: 23.63\tR: 28.81\tF1: 25.10\n",
            "\trouge-w:\tP: 13.68\tR:  7.65\tF1:  8.90\n"
          ],
          "name": "stdout"
        }
      ]
    },
    {
      "cell_type": "code",
      "metadata": {
        "id": "tpCXZOGPJI0U",
        "colab_type": "code",
        "colab": {}
      },
      "source": [
        "sample = torch.load(\"/content/drive/My Drive/COVID-19/dataset/predictions/shaiban_model/sample_predicted_list.pt\")"
      ],
      "execution_count": null,
      "outputs": []
    },
    {
      "cell_type": "code",
      "metadata": {
        "id": "ADu99oQGLnDD",
        "colab_type": "code",
        "colab": {
          "base_uri": "https://localhost:8080/",
          "height": 34
        },
        "outputId": "5d4dc717-8d66-426e-bc31-0001b9a5348f"
      },
      "source": [
        "len(sample)"
      ],
      "execution_count": null,
      "outputs": [
        {
          "output_type": "execute_result",
          "data": {
            "text/plain": [
              "2"
            ]
          },
          "metadata": {
            "tags": []
          },
          "execution_count": 20
        }
      ]
    },
    {
      "cell_type": "code",
      "metadata": {
        "id": "qdf22yKcrGQy",
        "colab_type": "code",
        "colab": {}
      },
      "source": [
        "total = ''\n",
        "for i in sample[0]:\n",
        "  total += str(i)"
      ],
      "execution_count": null,
      "outputs": []
    },
    {
      "cell_type": "code",
      "metadata": {
        "id": "wXBilqMcrMB4",
        "colab_type": "code",
        "colab": {
          "base_uri": "https://localhost:8080/",
          "height": 54
        },
        "outputId": "f67ffd8a-b443-43f3-a4f6-13015beb7913"
      },
      "source": [
        "total"
      ],
      "execution_count": null,
      "outputs": [
        {
          "output_type": "execute_result",
          "data": {
            "text/plain": [
              "'[\\' The SARS-associated coronavirus (SARS-CoV) is the causative agent of severe acute respiratory syndrome coronaviruses (SARs-CoVs) and has been identified as a major cause of the 2003 SARS epidemic around the world. In this study, we identified a series of SNVs (single nucleotide variations) in the 1386-6532 region of the SARS coronaviral gene (SNV-1386) of palm civets (Paguma larvata) and raccoon dogs (Nyctereutes procyonoides) that are closely related\\'][\\' This study compared local SARS-CoV S1 gene sequences collected from 137 Hong Kong SARS patients from February to April 2003, with 27 other sequences then available from GenBank, using neighbour-joining (NJ) phylogenetic analysis. The authors concluded that the international SARS epidemics were caused by closely related, but not identical, SARS viruses. However, some strains isolated from Hong Kong in the early ph\\'][\\' S-gene sequences of isolates from patients in Hong Kong were analysed using a maximum likelihood (ML) method, and any new SNVs documented. Patients with laboratory-confirmed SARS-CoV infection admitted to the New Territories East Cluster Hospitals were included (Chan et al., 2004) . For each patient, a stored original clinical sample (CS), or its primary isolate from tissue culture (TC) when the original sample has been exhausted, was retrieved for this study. The nucleotide sequenced nucleotide sequences of each patient were used to analyse the evolution of the virus.\\'][\\' A maximum likeli ence of the whole S-gene was obtained by direct sequencing. The extracted RNA was amplified with two sets of overlapping primers using Superscript TM III One-Step RT-PCR System with Platinum Taq DNA polymerase (Invitrogen, Life Technology, Carlsbad, CA). Purified PCR products were sequenced using six internal sequencing primers. Their sequences were edited and aligned using the Seqscape v2.1.1 software (Applied Biosystems, Foster City, CA)\\'][\\' A total of 56 SARS patients were included in this study (mean age 54.8, S.D. 21.9 years, 21 males). These patients all became ill during March-May 2003. Samples for analysis were collected after a mean of 5.9 (S.D 4.8) days after illness onset. The tree was constructed using the program PAUP * v4.0b10 (Swofford, 2001 ) under an optimum model of evolution.\\'][\\' The ML trees in Figs. 1 and 2 were both constructed using a Kimura three-parameters model of base substitution with unequal base frequencies, a proportion of invariant sites and a gamma-distributed site substitution rate (K81uf + I + G), as selected by Modeltest under Akaike Information Criteria, using a nearest-neighbor interchange heuristic search strategy in PAUP * . Fig. 1 shows the S-gene sequences obtained from the 56 Hong Kong patients, rooted against CIV007. The dates in the sample names are dates of fever onset for that patient. Despite the apparent\\'][\\' SARS-CoV has only reappeared a few times, sporadically, and only affecting a few people since the 2003 SARS epidemic. No further SARS epidemics have been identified. Therefore, the 56 samples analysed in this study, collected over a 3-month period during the 2003 epidemic in Hong Kong (March-June 2003), represent one of the longest continuous periods over which SARS CoV has been detected.\\'][\" The pattern in Fig. 2 shows that SARS-CoV S-gene sequences isolated from some Guangdong patients and animals from Beijing and China cluster together (cluster 1 \\'mainland\\'). This correlates well with the early phase of the SARS epidemic, as has been defined previously (CSMEC, 2004; Song et al., 2005) . Next, there is a transi-tional region seen, most likely to represent the spread of the epidemic within GuangDong, and then out to Beijing and Hong Kong, then the rest of the world (Cluster 2 \\'Guangdong\\'). This corresponds\"][\\' The ML approach, using optimal models of evolution as described here, with these complete S-gene sequences, independently supports previous NJ analysis of the epidemiology of the 2003 SARS outbreaks (e.g. the Kimura twoparameter distance method used by the CSMEC, 2004).\\'][\\' This study used tissue cultured (TC) isolates for Sgene sequence analysis of the SARS-CoV Urbani strain (T21615A and T21901A) that have not been previously reported elsewhere. These are most likely to be tissue-culture associated mutations. We did not find any of the previously reported mutations.\\'][\\' Several studies have documented various SNVs in the SARS-CoV genome, with some even proposing them as the basis for a genotypic classification. In this study, the SNV G23220T that was found in all of the patients (56/56, 100%) has been reported elsewhere (Yeh et al., 2004) , though the functional significance of this is presently uncertain. The 100% prevalence of this SNV in these samples strongly suggests that a non-TOR-2-like strain has infected these Hong Kong patients, rather than this being an example of natural selection.\\'][\" The 17 CUHK S-gene sequences containing this polymorphism all occur in samples collected towards the end of the SARS outbreaks in Hong Kong (from 4 April to 31 May 2003). Unfortunately, we do not know on what date the GUAN LC2/LC3/LC4/LC5 samples were taken (they are unpublished sequences that were submitted to GenBank on 19 September 2003), and it is therefore difficult to ascertain whether this SNV represents ongoing host-adaptive evolution. All of these 56 CUHK samples came from patients admitted to Hong Kong\\'s New Territories East hospital cluster during this period. The 17/56\"][\\' The analysis of 56 complete SARS-CoV Sgene sequences from Hong Kong in this study using ML analysis confirms the previous epidemiology of the virus obtained using mostly NJ analysis. It also describes two new SNVs that are most likely to be associated with the tissueculture passage of the disease.\\']'"
            ]
          },
          "metadata": {
            "tags": []
          },
          "execution_count": 23
        }
      ]
    },
    {
      "cell_type": "code",
      "metadata": {
        "id": "lp8DB50OrQA6",
        "colab_type": "code",
        "colab": {}
      },
      "source": [
        "test = torch.load(\"/content/drive/My Drive/COVID-19/dataset/LATEST/test.pt\")"
      ],
      "execution_count": null,
      "outputs": []
    },
    {
      "cell_type": "code",
      "metadata": {
        "id": "65mh3JIudv3l",
        "colab_type": "code",
        "colab": {
          "base_uri": "https://localhost:8080/",
          "height": 424
        },
        "outputId": "a464d477-b22b-47e6-f854-9785c874c2c0"
      },
      "source": [
        "test"
      ],
      "execution_count": null,
      "outputs": [
        {
          "output_type": "execute_result",
          "data": {
            "text/html": [
              "<div>\n",
              "<style scoped>\n",
              "    .dataframe tbody tr th:only-of-type {\n",
              "        vertical-align: middle;\n",
              "    }\n",
              "\n",
              "    .dataframe tbody tr th {\n",
              "        vertical-align: top;\n",
              "    }\n",
              "\n",
              "    .dataframe thead th {\n",
              "        text-align: right;\n",
              "    }\n",
              "</style>\n",
              "<table border=\"1\" class=\"dataframe\">\n",
              "  <thead>\n",
              "    <tr style=\"text-align: right;\">\n",
              "      <th></th>\n",
              "      <th>Abstract</th>\n",
              "      <th>Body</th>\n",
              "    </tr>\n",
              "  </thead>\n",
              "  <tbody>\n",
              "    <tr>\n",
              "      <th>14125</th>\n",
              "      <td>Background: The spike glycoprotein (S) gene of...</td>\n",
              "      <td>Since the severe acute respiratory syndrome (S...</td>\n",
              "    </tr>\n",
              "    <tr>\n",
              "      <th>3401</th>\n",
              "      <td>Influenza usually spreads through the human po...</td>\n",
              "      <td>A swine-origin influenza A/H1N1 virus that aro...</td>\n",
              "    </tr>\n",
              "    <tr>\n",
              "      <th>29313</th>\n",
              "      <td>Touristic cities will suffer from COVID-19 eme...</td>\n",
              "      <td>The smart adaptation of cities against differe...</td>\n",
              "    </tr>\n",
              "    <tr>\n",
              "      <th>12609</th>\n",
              "      <td>Background. Effective influenza surveillance r...</td>\n",
              "      <td>Influenza viruses cause serious global economi...</td>\n",
              "    </tr>\n",
              "    <tr>\n",
              "      <th>17432</th>\n",
              "      <td>Memory CD8 T cells can provide protection from...</td>\n",
              "      <td>a1111111111 a1111111111 a1111111111 a111111111...</td>\n",
              "    </tr>\n",
              "    <tr>\n",
              "      <th>...</th>\n",
              "      <td>...</td>\n",
              "      <td>...</td>\n",
              "    </tr>\n",
              "    <tr>\n",
              "      <th>3356</th>\n",
              "      <td>1 0 7 4 VOLUME 15 | NUMBER 8 | AUGUST 2012 nat...</td>\n",
              "      <td>Because it involves a complex interaction betw...</td>\n",
              "    </tr>\n",
              "    <tr>\n",
              "      <th>19090</th>\n",
              "      <td>As the Ebola outbreak continued to rage in West</td>\n",
              "      <td>to present in the patient. For three days afte...</td>\n",
              "    </tr>\n",
              "    <tr>\n",
              "      <th>37645</th>\n",
              "      <td>The first COVID-19 case in Brazil was confirme...</td>\n",
              "      <td>On December 31, 2019, China alerted the World ...</td>\n",
              "    </tr>\n",
              "    <tr>\n",
              "      <th>38365</th>\n",
              "      <td>Hintergrund: Die pulmonale Hypertonie des Neug...</td>\n",
              "      <td>in der WBCT Gruppe. Beim Propensity Score Matc...</td>\n",
              "    </tr>\n",
              "    <tr>\n",
              "      <th>30582</th>\n",
              "      <td>The azurophilic granules of human neutrophils ...</td>\n",
              "      <td>Antimicrobial peptides (AMPs) produced by anim...</td>\n",
              "    </tr>\n",
              "  </tbody>\n",
              "</table>\n",
              "<p>4612 rows × 2 columns</p>\n",
              "</div>"
            ],
            "text/plain": [
              "                                                Abstract                                               Body\n",
              "14125  Background: The spike glycoprotein (S) gene of...  Since the severe acute respiratory syndrome (S...\n",
              "3401   Influenza usually spreads through the human po...  A swine-origin influenza A/H1N1 virus that aro...\n",
              "29313  Touristic cities will suffer from COVID-19 eme...  The smart adaptation of cities against differe...\n",
              "12609  Background. Effective influenza surveillance r...  Influenza viruses cause serious global economi...\n",
              "17432  Memory CD8 T cells can provide protection from...  a1111111111 a1111111111 a1111111111 a111111111...\n",
              "...                                                  ...                                                ...\n",
              "3356   1 0 7 4 VOLUME 15 | NUMBER 8 | AUGUST 2012 nat...  Because it involves a complex interaction betw...\n",
              "19090    As the Ebola outbreak continued to rage in West  to present in the patient. For three days afte...\n",
              "37645  The first COVID-19 case in Brazil was confirme...  On December 31, 2019, China alerted the World ...\n",
              "38365  Hintergrund: Die pulmonale Hypertonie des Neug...  in der WBCT Gruppe. Beim Propensity Score Matc...\n",
              "30582  The azurophilic granules of human neutrophils ...  Antimicrobial peptides (AMPs) produced by anim...\n",
              "\n",
              "[4612 rows x 2 columns]"
            ]
          },
          "metadata": {
            "tags": []
          },
          "execution_count": 8
        }
      ]
    },
    {
      "cell_type": "code",
      "metadata": {
        "id": "ZoJKFDRhdrOu",
        "colab_type": "code",
        "colab": {}
      },
      "source": [
        "doc = test['Body'].tolist()"
      ],
      "execution_count": null,
      "outputs": []
    },
    {
      "cell_type": "code",
      "metadata": {
        "id": "Jn9eOEgydrMX",
        "colab_type": "code",
        "colab": {
          "base_uri": "https://localhost:8080/",
          "height": 54
        },
        "outputId": "fafaf814-5702-42ad-e129-33e3a6f4a631"
      },
      "source": [
        "doc[4]"
      ],
      "execution_count": null,
      "outputs": [
        {
          "output_type": "execute_result",
          "data": {
            "text/plain": [
              "\"a1111111111 a1111111111 a1111111111 a1111111111 a1111111111 \\n\\n Respiratory syncytial virus (RSV) is a major cause of severe disease in young children, the elderly, and immunocompromised populations  . Furthermore, RSV is the leading cause of infant hospitalizations creating an immense healthcare burden for treatment and prevention  . There is currently no licensed vaccine for RSV. During a primary RSV infection, the CD8 T cell response is crucial for mediating viral clearance  . Depletion of CD8 T cells in mice prior to RSV challenge leads to elevated viral loads, but also ameliorates morbidity  . Thus, CD8 T cells contribute to both viral clearance and immunopathology following an acute RSV infection. RSV-specific memory CD8 T cells also contribute to protection from a secondary infection  . Antibody-mediated depletion of memory CD8 T cells in RSVimmune mice impairs viral clearance following re-infection as compared to non-treated controls  . Thus, vaccines that elicit robust memory CD8 T cell responses may help promote long-lived immunity against RSV. \\n\\n The induction of neutralizing antibodies remains a primary goal of most RSV vaccines due to their clearly established capacity to reduce the severity of RSV-induced disease  . In contrast, studies have demonstrated that robust memory CD4 T cell responses can mediate vaccine-enhanced disease following RSV infection  . Adoptive transfer of activated effector RSV-specific CD8 T cells, in vitro stimulated T cell lines, or in vitro propagated T cell clones leads to enhanced RSV clearance from the lung following RSV challenge. These effector CD8 T cell transfers were also associated with increased weight loss, indicating that infusion of effector CD8 T cells can induce increased systemic disease  . However, the role of memory CD8 T cells in providing protection against RSV infection remains unclear. Evaluating the capacity of memory CD8 T cells to mediate protection against RSV infection is critically important because high neutralizing antibody titers alone are insufficient to prevent RSVinduced disease in every individual  . \\n\\n Herein, we evaluated the protective capacity of memory CD8 T cells against RSV infection in the absence of RSV-specific CD4 T cell memory and antibodies. We employed a dendritic cell-Listeria monocytogenes (DC-LM) prime-boost immunization regimen to induce high magnitude, RSV epitope-specific CD8 T cell responses in naive mice. A similar prime-boost immunization strategy has been shown to elicit protection against other respiratory viruses including influenza A virus (IAV) and severe acute respiratory syndrome coronavirus (SARS-CoV)  . DC-LM immunization induced robust memory CD8 T cell responses that reduced viral titers following RSV challenge. However, despite enhanced viral clearance, immunized mice experienced increased pulmonary disease, weight loss, and mortality. Exacerbated disease and mortality was unique to the context of an RSV infection as immunized mice were protected against challenge with a lethal dose of a recombinant IAV expressing an RSVderived CD8 T cell epitope. The lethal immunopathology observed in immunized mice was caused by rapid and excessive IFN-γ production by memory CD8 T cells in the airways. Our studies reveal that memory CD8 T cells enhance RSV clearance similar to other viral infections, but are unique in that they mediate severe immunopathology caused by the overproduction of IFN-γ. \\n\\n Peptide-coated, mature DCs can be utilized to prime a CD8 T cell response that allows for robust secondary expansion following a booster immunization in mice  . To induce RSVspecific CD8 T cell memory in the absence of virus-specific CD4 T cells and antibodies, naive mice were immunized with matured splenic DCs loaded with M2 82-90 (M2 82 ) peptide and boosted 7 days later via infection with an attenuated, recombinant LM strain expressing the M2 82 epitope. A control group without RSV-specific CD8 T cell memory was generated by immunizing mice with DCs not exposed to peptide followed by a boost with an LM that did not express an RSV-derived epitope. DC-LM immunization led to a significant (p<0.001) increase in M2 82 -specific CD8 T cell frequencies following the LM booster inoculation within the peripheral blood leukocytes (PBL) compartment as compared to the control group ( Fig  1A) . Approximately 20% of all CD8 T cells in the PBL were M2 82 -specific at day 42 post-boost ( Fig 1A) . Immunized mice challenged with RSV exhibited a significant (p<0.001) reduction in lung viral titers by day 4 post-infection (p.i.) compared to the control group undergoing a primary RSV infection ( Fig 1B) . As expected, immunized mice exhibited an increased number of total and M2 82 -specific CD8 T cells in the lung by day 5 p.i. as compared to non-infected M2 82 -immunized controls (Fig 1C and 1D ). In addition, there was a greater frequency (p<0.001) of IFN-γ + and IFN-γ + TNF + CD8 T cells following M2 82 peptide re-stimulation at days 4 and 5 p.i. as compared to control groups ( Fig 1E) . Thus, DC-LM immunization elicited robust memory CD8 T cell responses that mediated enhanced viral clearance following RSV challenge. \\n\\n Pre-existing memory CD8 T cells altered the response of specific cell types following RSV infection (S1 Fig). Both conventional CD4 and regulatory CD4 T cell (Treg) numbers were significantly reduced (p<0.05) at days 4 and 5 p.i. in the lung compared to the acute infection control group. Furthermore, the number of monocytes were significantly (p<0.05) increased at day 5 p.i. as compared to control mice. These changes were in contrast to eosinophil, neutrophil, and natural killer (NK) cell responses, which remained similar to non-infected M2 82immunized mice. Overall, DC-LM immunization induced memory CD8 T cells that altered the magnitude of the subsequent cellular infiltrate and enhanced viral clearance following RSV infection. \\n\\n Since DC-LM immunized mice exhibited decreased viral titers, we next determined if they also experienced reduced disease severity. We evaluated weight loss and airway obstruction, both key disease manifestations that can be assessed following RSV infection in mice  . Despite enhanced viral control, M2 82 -immunized mice exhibited a significant (p<0.01) decrease in survival (Fig 2A) . Approximately 40% of fatalities were due to M2 82 -immunized mice naturally succumbing to RSV infection, while 60% were euthanized upon reaching a humane weight loss endpoint. This outcome was both unexpected and unusual since an acute RSV infection is rarely fatal in adult BALB/c mice. M2 82 -immunized mice also exhibited significantly (p<0.05) increased weight loss ( Fig 2B) and reduced pulmonary function (Fig 2C  Fig 1. DC-LM immunization induces robust memory CD8 T cell responses that mediate clearance following RSV infection. Naive BALB/c mice were primed with mature DCs coated in M2 82 peptide and boosted 7 days later with recombinant LM expressing the M2 82 epitope. Control mice received mature DCs not coated in peptide and were inoculated with LM that did not express an RSV-derived epitope. (A) M2 82 -tetramer + CD8 T cell response was assessed in the PBL following DC-LM prime-boost immunization. (B) RSV titers at day 4 p.i. were determined via plaque assay in the lung. (C) Total CD8 and (D) M2 82 -specific CD8 T cells were quantified in the lungs of immunized mice at days 0, 4, and 5 p.i. (E) Frequency of CD8 T cells in the lung producing either IFN-γ or IFN-γ and TNF after M2 82peptide re-stimulation was determined at days 0, 4, and 5 p.i. Data are represented as mean ± SEM of two independent experiments (n = 8 mice). Groups were compared using Student's t test for (A, B) and one-way ANOVA in (C-E), ÃÃ p<0.01, ÃÃÃ p<0.001. and 2D). Additionally, we evaluated lungs by histology for evidence of diffuse alveolar damage (DAD), an acute form of lung injury  . If severe and extensive enough, DAD is the foundational lesion in the clinical syndrome known as acute respiratory distress syndrome. M2 82immunized mice revealed increased (p<0.001) histopathological evidence of characteristics associated with early stages of DAD including cellular sloughing and necrosis, alveolar hemorrhage, early cellular infiltrates, and hyaline membrane formation (Fig 2E and 2F and S2 and S3 Figs) . \\n\\n Previous work has demonstrated that the M2 82 -specific CD8 T cell response contributes to the immunopathology associated with an acute RSV infection  . Thus, it was unclear if the increased disease severity observed in M2 82 -immunized mice was unique to the M2 82-90 epitope. To address this possibility, we evaluated mice immunized against the F 85-93 (F 85 ) CD8 T cell epitope following RSV infection  . Similar to M2 82 -immunized mice, F 85 DC-LM immunization induced a high frequency of RSV F 85 -specific memory CD8 T cells that mediated a decrease in lung viral titers at day 4 following RSV challenge (S4A and S4B Fig) . In addition, F 85 -immunized mice exhibited increased mortality, weight loss, and pulmonary dysfunction as compared to controls (S4C- S4F Fig) . Thus, the severe immunopathology induced by memory CD8 T cells was not specific to either a particular epitope or an RSV protein. We next determined if RSV-specific memory CD8 T cells would also cause increased disease in C57BL/6 mice, as an acute RSV infection in this mouse strain typically causes only mild disease  . Therefore, we immunized C57BL/6 mice against the immunodominant M 187-195 (M 187 ) CD8 T cell epitope  . DC-LM immunization targeting the M 187 epitope resulted in approximately 33% M 187 -specific CD8 T cells in the PBL by day 28 post-boost (S5A Fig) . Similar to M 82 -immunized BALB/c mice, M 187 -immunized C57BL/6 mice exhibited significantly reduced lung virus titers (p<0.001), decreased pulmonary function, and increased weight loss following RSV infection (S5B- S5E Fig) . However, in contrast to M2 82 -immunized BALB/c mice, all of the M 187 -immunized C57BL/6 mice survived following RSV infection. This data indicates that M 187 -specific CD8 T cells also contribute to immunopathogenic responses in the C57BL/6 genetic background. \\n\\n The challenge virus utilized in our study is the RSV A2 strain, which primarily induces a Th1-biased immune response  . However, other RSV strains can induce more heterogeneous Th responses. To determine if memory CD8 T cells generated by DC-LM vaccination induce immunopathology independently of the RSV challenge strain, we infected M2 82immunized mice with the recombinant RSV A2-line19F strain, which promotes a more Th2-biased immune response than RSV A2  . M2 82 -immunized mice challenged with A2-line19F exhibited mortality, weight loss, and pulmonary dysfunction that was identical to mice challenged with A2 (S6 Fig). These results indicate that M2 82 -specific memory CD8 T cells induce immunopathology independently of the RSV strain utilized for challenge. \\n\\n To determine if M2 82 -specific memory CD8 T cells would be pathogenic outside of RSV infection, we challenged M2 82 -immunized mice with a recombinant IAV expressing the M2 82 epitope (IAV-M2 82 ). Slutter et al. recently used a similar DC-LM prime-boost strategy to elicit IAV-specific memory CD8 T cells and demonstrated protection against a subsequent IAV infection  . Similar to RSV challenge, immunized mice infected with IAV-M2 82 exhibited a significant increase in the number of total and M2 82 -specific CD8 T cells in the lung by day CD4 T cell, Treg, neutrophil, and NK cell numbers were not significantly altered in IAV-M2 82 challenged mice (S7 Fig). As anticipated, all control mice, which do not have virus-specific memory CD8 T cells, succumbed to a lethal IAV-M2 82 challenge. However, in contrast to the significant (p<0.001) mortality observed in M2 82 -immunized mice following RSV challenge, M2 82 -immunized mice were protected against a lethal IAV-M2 82 infection ( Fig 3A) . Pre-existing M2 82 -specific memory CD8 T cells also prevented the prolonged weight loss and pulmonary dysfunction observed in control mice following IAV-M2 82 infection (Fig 3B-3D) . Furthermore, weight loss and pulmonary dysfunction following RSV challenge were significantly (p<0.05) increased at early timepoints compared to IAV-M2 82 infected mice ( Fig  3B-3D ). In addition, M2 82 -specific memory CD8 T cells induced a significant (p<0.001) reduction in IAV titers at both day 4 and day 6 p.i. (Fig 3E) . These data indicate that pre-existing RSV M2 82 -specific memory CD8 T cells mediate enhanced IAV-M2 82 clearance and promote increased survival of mice by preventing prolonged disease. To confirm that memory CD8 T cells would also provide protection without extensive immunopathology to a lower viral inoculum, we challenged M2 82 -immunized mice with a sublethal dose of IAV-M2 82 . Similar to a lethal dose of IAV-M2 82 , M2 82 -immunized mice experienced significantly (p<0.05) improved pulmonary function and less weight loss as compared to the control group following a sublethal infection (S8 Fig) . Thus, memory CD8 T cells do not promote distinct patterns of disease severity between sublethal and lethal IAV infections. These results indicate that lethal immunopathology associated with a high-magnitude memory CD8 T cell response is unique to the context of an RSV infection. \\n\\n The DC-LM immunization strategy utilized in our study induced high frequency systemic CD8 T cell memory but resulted in fatal immunopathology following RSV challenge. We hypothesized that a local immunization would promote a large population of antigen-specific resident memory CD8 T cells within the lung that would prevent the immunopathology observed after RSV infection. To evaluate the effects of local immunization, DC-M2 82 -primed mice were either not boosted, given a systemic LM-M2 82 boost intravenously (i.v.), or given a local IAV-M2 82 boost intransally (i.n.). Administration of an IAV-M2 82 boost induced a significant (p<0.001) increase in the total number of M2 82 -specific CD8 T cells in the lung prior to RSV challenge as compared to a systemic LM-M2 82 boost (S9A and S9B Fig) . We next utilized intravascular staining to determine the localization of cells within the lung following immunization  . The majority of M2 82 -specific CD8 T cells in the lung of DC-M2 82primed mice that were either not boosted or boosted systemically with LM-M2 82 were located within the pulmonary vasculature (S9C Fig). In contrast, greater than 85% of M2 82 -specific CD8 T cells were localized within the lung tissue in IAV-M2 82 -boosted mice, resulting in a significant (p<0.001) increase in total number as compared to LM-M2 82 -boosted mice (S9C and S9D Fig) . In addition, local boost in the lung with IAV-M2 82 induced a large frequency of RSV-specific CD8 T cells within the lung tissue expressing both CD69 and CD103, which represent the canonical markers of resident memory CD8 T cells. In contrast, systemic LM-M2 82 immunization failed to elicit resident memory CD8 T cells within the lung tissue (S9E and S9F Fig) . \\n\\n To determine whether the RSV-specific resident memory CD8 T cells generated by local immunization induce less severe immunopathology than their systemically induced counterparts, DC-M2 82 -primed mice that were either not boosted or boosted with either LM-M2 82 i.v. or IAV-M2 82 i.n. were challenged with RSV and monitored for morbidity and mortality. In contrast to a systemic LM-M2 82 boost, a local boost in the lung with IAV-M2 82 resulted in 100% survival following RSV challenge (S10A Fig). The IAV-M2 82 boost also resulted in significantly (p<0.05) reduced weight loss and pulmonary dysfunction following RSV infection compared to the LM-M2 82 boost (S10B-S10D Fig) . These results suggest that local primeboost immunization generates RSV-specific resident memory CD8 T cells that prevent fatal immunopathology and ameliorate disease following RSV challenge. \\n\\n We next evaluated the primary antiviral effector functions of memory CD8 T cells to determine their contribution to the immunopathology. The primary pathway of CD8 T cell-mediated cytolysis is through the release of perforin and granzymes  . Therefore, we evaluated survival and disease severity following RSV infection of perforin-deficient M2 82immunized mice. Mice deficient in perforin exhibited accelerated mortality as compared to wild-type (WT) controls (S11A Fig). The kinetics of weight loss and pulmonary dysfunction were similar between WT and perforin-deficient M2 82 -immunized mice following RSV challenge (S11B-S11D Fig) . Therefore, perforin is not required to mediate exacerbated disease, but may be necessary to prevent additional mortality. \\n\\n We also evaluated the role of TNF in immunized mice given its previously identified contribution to immunopathology associated with an acute RSV infection  . Antibody-mediated neutralization of TNF in the airways at the time of RSV challenge led to survival of all M2 82immunized mice (S12A Fig). Neutralization of TNF significantly (p<0.05) reduced both weight loss and pulmonary dysfunction (S12B-S12D Fig) . These data illustrate that similar to an acute RSV infection  , TNF also contributes to the immunopathology associated with memory CD8 T cell responses. Furthermore, TNF neutralization had no significant impact on viral titers at day 4 p.i. (S12E Fig) . Assessment of TNF levels at day 2 following RSV challenge revealed similar levels between control-and M2 82 -immunized mice (S12F Fig). TNF levels in the lung were significantly (p<0.01) increased in M2 82 -immunized mice at day 4 p.i. as compared to the control group, but no increase was observed in the serum (S12F Fig). However, the overall amount of TNF in both the lung and the serum had decreased by day 4 p.i., the time when immunized mice began to succumb to the RSV infection. Therefore, these data demonstrate that TNF contributes to general inflammation in the lung during both a primary and recall response to RSV infection, but that TNF is necessary for the lethal immunopathology to occur. \\n\\n Due to the accelerated memory CD8 T cell response in DC-LM immunized mice, we speculated that the early inflammatory cytokine milieu would be distinct from an acute RSV infection. We initially evaluated IFN-γ levels, as it is a common pro-inflammatory cytokine produced by CD8 T cells following viral infection. IFN-γ protein levels were significantly (p<0.001) increased in both the lung and serum at day 2 p.i. of M2 82 -immunized mice as compared to the control group (Fig 4A and 4B ). IFN-γ levels in M2 82 -immunized mice remained elevated above controls at day 4 p.i., but the overall amount was reduced as compared to day 2 following infection. Interestingly, challenge with IAV-M2 82 resulted in significantly (p<0.001) greater IFN-γ protein levels in the lung at day 2 and day 4 p.i. as compared to challenge with RSV (S13A Fig). In contrast, serum IFN-γ and lung TNF levels in IAV-M2 82 -infected mice were reduced (p<0.001) at day 2 but increased (p<0.001) at day 4 p.i. when compared to the levels observed following RSV challenge (S13B and S13C Fig) . \\n\\n To determine the in vivo source of IFN-γ in RSV-infected immunized mice, we treated mice with brefeldin A (BFA) to capture cells producing IFN-γ via intracellular staining and flow cytometry  . Leukocytes producing IFN-γ in vivo were readily identified using this previously established method (S14A Fig). Upon evaluation of the primary leukocyte populations present in the lung following RSV infection, only lymphocytes had produced IFN-γ in immunized mice at day 2 p.i. (Fig 4C) . Only a small frequency of CD4 T cells and NK cells secreting IFN-γ were observed at day 2 p.i., whereas approximately 45% of CD8 T cells were producing IFN-γ ( Fig 4C) . These data also correlate with the rapid and transient increase in the amount of IFN-γ protein we observed in the lung and serum at day 2 p.i., as virtually no IFN-γ-producing cells were recovered on day 5 p.i. (S14B Fig). The IFN-γ secreting CD8 T cells were largely CD11a hi , indicating that the majority were antigen-experienced T cells ( Fig  4D)  . When comparing M2 82 -specific T lymphocytes to all other CD8 T cells in the lung at day 2 p.i., half of M2 82 -specific CD8 T cells produced IFN-γ, whereas almost 30% of the remaining CD8 T cells were also producing IFN-γ (Fig 4E) . These results indicate that both M2 82 -specific and bystander antigen-experienced CD8 T cells secrete IFN-γ in immunized mice early following RSV infection. Lastly, we assessed IFN-γ production by CD8 T cells in the respiratory tract (lung and BAL), mediastinal lymph node (mLN), and periphery (spleen and PBL). The majority of CD8 T cells secreting IFN-γ were localized to the lung and BAL ( Fig  4F) . In contrast, a relatively low frequency of CD8 T cells produced IFN-γ in the spleen and PBL, and virtually no IFN-γ production was observed in the mLN (Fig 4F) . Taken together, these data demonstrate that antigen-experienced CD8 T cells in the airways of immunized mice secrete IFN-γ early following RSV infection leading to increased IFN-γ levels in both the lung and the periphery. \\n\\n Due to the increased systemic IFN-γ levels largely produced by antigen-experienced CD8 T cells in the respiratory tract, we next determined if IFN-γ was necessary to mediate the severe immunopathology in immunized mice. To evaluate the role of IFN-γ, we treated M2 82 -immunized mice with either control IgG or anti-IFN-γ neutralizing antibody administered i.n at the time of RSV challenge. While high mortality was observed in the IgG-treated group, neutralization of IFN-γ led to the survival of all immunized mice (Fig 5A) . In addition, weight loss and respiratory dysfunction were significantly (p<0.05) reduced in immunized mice following IFN-γ neutralization as compared to the IgG-treated mice (Fig 5B-5D ). Neutralization of IFNγ did not significantly impact virus titers in the lung at day 4 p.i., suggesting that IFN-γ does not contribute to pathogen clearance in this prime-boost immunization model (Fig 5E) . Neutralization of IFN-γ resulted in significantly (p<0.001) decreased TNF levels in the lung at day 2 p.i. compared to IgG-treated controls (Fig 5F) . Overall, our results suggest that antigen-experienced CD8 T cells rapidly secrete IFN-γ, which mediates lethal immunopathology following RSV infection in DC-LM-immunized mice by promoting the production of TNF by other cell populations. \\n\\n Current RSV vaccine development and assessment is focused upon induction of a strong humoral immune response  . In contrast, the capacity of cellular immunity to provide protection against an RSV infection has received less attention. Here we evaluated the capacity of memory CD8 T lymphocytes to protect against an RSV infection. Our results demonstrate that memory CD8 T cells, in the absence of RSV-specific CD4 T cell memory or antibodies, promote enhanced viral clearance following RSV challenge. However, pre-existing RSV-specific memory CD8 T cells also mediate exacerbated disease severity and lethal immunopathology. The CD8 T cell response has been previously shown to contribute to weight loss and illness following an acute RSV infection  . Therefore, the CD8 T cell response plays a crucial role in both viral clearance and immunopathology during primary and secondary responses. \\n\\n A number of previous reports have shown that the adoptive transfer of activated effector RSV-specific CD8 T cells, in vitro stimulated T cell lines, or in vitro propagated T cell clones results in enhanced RSV clearance from the lung following RSV challenge. These effector CD8 T cell transfers were also associated with increased weight loss, indicating that infusion of effector CD8 T cells leads to the induction of increased systemic disease  . Thus, our studies contrast substantially with these previous studies as we have examined the protective capacity of in vivo generated RSV-specific memory CD8 T cells that have not undergone in vitro activation or restimulation.  \\n\\n Vallbracht et al. reported that mutation of the M2 82 epitope sequence within the RSV genome results in reduced T cell-mediated immunopathology following an acute infection  . However, the enhanced disease severity associated with pre-existing RSV-specific memory CD8 T cells we observe here was not limited to either a specific epitope or RSV protein. DC-LM immunization targeting either the M2 82 or F 85 epitope resulted in exacerbated disease and high mortality following RSV challenge. Furthermore, immunization against the immunodominant M 187 epitope in C57BL/6 mice also caused increased weight loss and pulmonary dysfunction, but no mortality following RSV infection. The lack of mortality in the immunized C57BL/6 mice may be due to M 187 -specific CD8 T lymphocytes having superior cytolytic function with limited immunopathology as compared to M2 82 -specific CD8 T cells  . \\n\\n Interestingly, the lethal immunopathology associated with pre-existing memory CD8 T cells was unique to the context of an RSV infection. Memory CD8 T cells are protective and do not exacerbate disease severity with other respiratory viral infections such as IAV or SARS-CoV  . Consistent with memory CD8 T cells being able to provide protection against IAV infection  , we show that RSV M2 82 -specific memory CD8 T cells mediate protection following a lethal IAV-M2 82 infection. A systemic increase of IFN-γ was seen in immunized mice early 2 days following RSV infection. Antigen-experienced CD8 T cells in the airways were the primary source of IFN-γ. The presence of IFN-γ-producing CD8 T cells only in the airways suggests that production was in response to antigen stimulation given the strong tropism of RSV to the epithelium and alveolar cells of the respiratory tract  . Interestingly, peak IFN-γ production occurred prior to the significant accumulation and/or expansion of virus-specific CD8 T cells within the lung by day 5 p.i. This observation is similar to work by Liu et al. showing IFN-γ production by CD8 T cells prior to expansion of the CD8 T cell response following lymphocytic choriomeningitis virus (LCMV) infection  . Neutralization of IFN-γ prevented all mortality and reduced disease severity in immunized mice without impacting RSV titers. These data indicate that IFN-γ promotes the severe immunopathology, but does not contribute to viral clearance. \\n\\n A robust IFN-γ response may explain why memory CD8 T cells protect against a lethal IAV-M2 82 and not an RSV infection. Antibody-mediated neutralization of IFN-γ does not impact RSV viral titers during an acute infection indicating a minor role in viral clearance  . Induction of a Th1-biased immune response is important to prevent the pathology associated with a Th2-skewed response  . Nonetheless, IFN-γ still contributes to minimal immunopathology associated with an acute RSV infection  . However, treatment of mice with recombinant IFN-γ at early timepoints has been shown to protect against lethal IAV infection with no difference in viral clearance  . This result is consistent with our study showing that DC-LM immunized mice receiving a lethal IAV infection have significantly increased IFN-γ protein levels in the lung at early time points as compared to RSV challenged mice. Together, these results suggest that supplemental IFN-γ limits the severe pathology associated with a lethal IAV infection without contributing to viral clearance. Therefore, IFN-γ can play distinct roles by either contributing to immunopathology or ameliorating disease dependent upon the respiratory virus infection. \\n\\n Other CD8 T cell functions were not required to mediate the exacerbated disease observed in DC-LM-immunized mice. Immunized mice deficient in perforin exhibited similar disease severity as WT controls following RSV challenge. In addition, all perforin-deficient mice eventually succumbed to infection whereas typically 10-20% of WT immunized mice survive. It has been previously demonstrated that IFN-γ and TNF levels in perforin-deficient mice are elevated following an acute RSV infection, which likely contributes to the accelerated mortality we observed in M2 82 -immunized perforin-deficient mice  . A role for regulating CD8 T cell expansion and cytokine production by perforin to prevent mortality has also been demonstrated for secondary CD8 T cell responses against LCMV  . Lastly, the neutralization of TNF also improved survival and ameliorated disease in immunized mice following RSV infection. The cytokine TNF is known to contribute to both weight loss and inflammation during acute RSV infection  . Therefore, TNF plays a critical role in mediating immunopathology during both primary and secondary RSV infections. \\n\\n Our results are in contrast to work by Lee et al. showing enhanced RSV clearance with reduced disease severity mediated by vaccine-elicited memory CD8 T cells  . The DC-LM immunization utilized in our studies resulted in dramatically increased numbers of RSV-specific memory T cells compared to the immunization strategy employed by Lee et al.  . This disparity in RSV-specific memory CD8 T cell numbers prior to RSV challenge may account for the observed difference in outcome between our studies. It remains controversial whether a strong CD8 T cell response is desirable during RSV infection in humans. Experimental RSV infection of adult humans revealed that greater frequencies of virus-specific CD8 T cells in the BAL correlated with reduced clinical disease symptoms  . In contrast, a greater ratio of CD8 to CD4 T cells in the airways is associated with acute lung injury during common respiratory tract infections such as RSV  . \\n\\n RSV-specific CD8 T cell responses have also been examined in humans following RSV infection. Consistent with their critical role in clearing an acute infection, a study by Weilliver et al. found that children with a fatal primary RSV infection had fewer CD8 T cells in their lung tissue than normal controls suggesting that patients with severe lower respiratory tract illness may have an insufficient cell-mediated immune response  . In contrast, a report by Heidema et al. examining CD8 T cells in the airways of infants with a severe primary RSV infection was able to readily identify RSV-specific CD8 T cells in the airways with no significant difference in the number recovered between infants with more versus less severe disease  . Thus, it is currently unclear if CD8 T cells contribute to immunopathology during an acute RSV infection in infants. \\n\\n The role of RSV-specific memory CD8 T cells in humans has been difficult to address due to the difficulty in obtaining CD8 T cells from the airways. A recent report by Jozwik et al. using the human RSV challenge model has sought to address this issue. In adult volunteers experimentally infected with RSV, Jozwik et al. found that a higher baseline frequency of RSVspecific CD8 T cells in the airways correlated with a lower cumulative symptom score following RSV challenge  . Our results obtained by administration of a local IAV-M2 82 boost are consistent with this notion. Our data suggest that systemic RSV-specific memory CD8 T cells are more prone to causing immunopathology, possibly in part due to their delay in reaching the lungs. However, the use of the human RSV challenge model cannot evaluate the protective capacity of memory CD8 T cells in the absence of RSV-specific memory CD4 T cells and antibodies as we have done here using our animal model. Thus, we believe our results are applicable to humans in cases where vaccination of an RSV seronegative individual would primarily elicit a CD8 T cell response. \\n\\n Our study defines a clear role for memory CD8 T cells following RSV infection. Pre-existing CD8 T cell memory contributes to enhanced viral clearance upon RSV challenge, but also mediates severe immunopathology in contrast to many other viral infections. The outcome is compelling given the high rate of mortality, which is unusual in this RSV infection model. These data highlight how complex and unique the RSV-induced immune response is in contrast to other respiratory viral infections. Our results indicate that epitope-based cellular vaccines against RSV may have detrimental consequences. Our data also support that caution must be exercised during evaluation of any RSV vaccine candidate, particularly when robust memory T cell responses are involved in order to prevent the induction of immunopathology. \\n\\n Female BALB/cAnNCr mice between 6-8 wk old were purchased from the National Cancer Institute (Frederick, MD) . Female H-2 d perforin-deficient mice were provided by Dr. John Harty (University of Iowa, Iowa City, IA)  . \\n\\n All experimental procedures utilizing mice were approved by the University of Iowa Animal Care and Use Committee under Animal Protocols #4101196 and #7041999. The experiments were performed under strict accordance to the Office of Laboratory Animal Welfare guidelines and the PHS Policy on Humane Care and Use of Laboratory Animals. \\n\\n Memory CD8 T cells were induced using a DC-LM, prime-boost immunization regimen. BALB/c mice were injected intraperitoneally (i.p.) with 5 x 10 6 B16 melanoma cells that express fms-related tyrosine kinase 3 ligand (B16-FLT3L). After 14 days, mice were injected i. v. with 1-2 μg lipopolysaccharide (LPS) to mature DCs. 24 hrs later, spleens were harvested and digested in HBSS containing 60 U/mL DNase I (Sigma-Aldrich) and 125 U/mL collagenase (Invitrogen) while gently shaking for 20 mins at 37˚C. Spleens were made into single-cell suspensions and incubated with a 2 μM concentration of either M2 82-90 or F 85-93 peptide for 2 hrs at 37˚C while rocking. DCs were isolated using anti-CD11c microbeads (Miltenyi Biotec) and sorted via positive selection on an autoMACS separator (Miltenyi Biotec). Mice were primed with 5 x 10 5 peptide-pulsed DCs. DC-immunized mice were boosted with 5 x 10 6 actA-deficient LM that express either M2 82 or F 85 administered i.v. 7 days later. 28-42 days following the LM boost, mice were infected with either RSV or IAV-M2 82 . Control mice were primed with DCs incubated without peptide and boosted with an actA-deficient LM that does not express any RSV-derived epitopes  . The recombinant LM strains were created using pPL2 integration vector  . Target DNA was inserted at digested BamH1 and PstI sites and ligated in Escherichia coli XL1-Blue cells. Recombinant chloramphenicol-resistant plasmids were conjugated in E. coli SM10 cells along with the 10403S strain of LM that is resistant to streptomycin  on brain heart infusion agar plates. Growth from previous step were streaked out on selective brain heart infusion agar plates to select chloramphenicol-and streptomycin-resistant colonies that contain pPL2 integrated into the 10403S LM strain. Recombinant LM were grown in tryptic soy broth (35.6g/L) containing 50 mg/mL streptomycin. \\n\\n The A2 strain of RSV was a gift from Dr. Barney Graham (National Institutes of Health, Bethesda, MD). The A2-line19F strain was a gift from Dr. Martin Moore (Emory University, Atlanta, GA). RSV strains were propagated in HEp-2 cells (ATCC). Mice were infected i.n. with 1.0-1.7 x 10 6 PFU of purified RSV. For RSV purification, 50% polyethylene glycol was added to crude RSV for a final dilution of 1:5. The RSV preparation was mixed at 4˚C for 2 hrs and centrifuged at 7300 g for 30 mins in a swing bucket rotor. Pellets were resuspended in 20% sucrose solution and placed on top of 60% and 35% sucrose layers and centrifuged at 170,000 g for 1 hr. Purified RSV at the interface between the 35% and 60% sucrose layers was collected and stored at -80˚C. All solutions were created in a buffer containing 0.15 M NaCl, 0.05M Tris-HCl, and 0.001M EDTA. For mock infections, mice were administered an equivalent volume of sterile PBS. Recombinant IAV-M2 82 was kindly provided by Dr. Ryan Langlois (University of Minnesota, Minneapolis, MN). The virus was created using standard reverse genetics as previously described  , rescued, and grown in 10 day-old embryonated chicken eggs (Charles River). M2 82 epitope was inserted into the mRNA nucleotide position 186 encoding the neuraminidase stalk region, which is known to tolerate such insertions  . For lethal heterologous IAV infections, mice were challenged i.n. with a 5 LD 50 dose representing 1 x 10 3 PFU of recombinant IAV-M2 82 virus. For sublethal IAV infections, mice were infected i.n. with a 0.1 LD 50 dose representing 20 PFU of IAV-M2 82 . In certain experiments, mice were boosted with IAV-M2 82 and given a 0.1 LD 50 dose i.n. 7 days following the DC-M2 82 prime i.v. \\n\\n Whole lungs were harvested from mice, weighed, mechanically homogenized, and supernatant was stored at -80˚C until further use. 1:10 serial dilutions of supernatants were performed and incubated on Vero cells (ATCC) in 6-well plates for 90 mins at 37˚C. Plates were overlaid with a 1:1 mixture of 2X Eagle minimum essential medium (2X EMEM, Lonza, Walkersville, MD) and 1% SeaKem ME agarose (Cambrex, North Brunswick, NJ). Following 5 days of incubation at 37˚C, 5% CO 2 , plates were stained with a 1:1 mixture of 2X EMEM and 1% agarose containing 0.015% neutral red (Sigma-Aldrich). Plaques were counted after 24-48 hrs. For determination of IAV titers, lungs were processed in the same manner as for RSV plaque assay. MDCK (ATCC) cells in 6-well plates were washed 3 times with room temperature sterile PBS adding 1 mL of sterile Dulbecco's modified Eagle's medium afterwards. Plates were infected with 100 μl of serially diluted IAV-infected lung samples (10-fold dilutions) for 1 hr at 37˚C. Plates were washed twice with sterile room temperature PBS. Wells were overlaid with 2 mL of a 1:1 mixture of 2X EMEM and 1.6% agarose containing 1 mg/mL TPCK-trypsin and incubated at 37˚C, 5% CO 2 for 3 days. Agarose plugs were carefully removed, and monolayers were fixed with 2 mL 70% ethanol for 20 mins at room temperature. Monolayers were stained with 1 mL of 1% crystal violet in methanol for 10 mins at room temperature, and plates were washed in a pool of warm water. Plates were allowed to dry overnight, and plaques were counted the next morning. \\n\\n Pulmonary function of mice was evaluated using unrestrained whole-body plethysmography. Enhanced pause (Penh) and respiratory minute volume (MVb) were measured using a wholebody plethysmograph (Buxco Electronics, Wilmington, NC) and averaged over a 5 min period. Weight loss was tracked daily following RSV or IAV infection of mice. Mice that were at or below 70% of their starting weight were euthanized. \\n\\n For IFN-γ and TNF neutralization, mice were treated i.n. with 200 μg of anti-IFN-γ (clone XMG1.2) or anti-TNF (clone MP6-XT22) antibody during RSV challenge. For controls, mice were administered a matching dose of control isotype IgG antibody. \\n\\n Whole lungs were harvested on day 5 following RSV challenge and fixed in 10% neutral buffered formalin (Fisher Scientific). Lungs were processed as previously described  and stained with H&E for routine evaluation. Representative images of lung sections were taken at 20X, 200X, and 400X magnification for each immunization regimen. Tissues were examined and scored in a manner masked to experiment groups  . Each sample was assessed for evidence of DAD. Histopathologically, early stages of DAD include alveolar septal injury, such as cellular sloughing, necrosis, hyaline membrane formation, hemorrhage, and early cellular infiltrates. DAD scores were assigned as follows: 1-absence of cellular sloughing and necrosis; 2-Uncommon solitary cell sloughing and necrosis; 3-Multifocal cellular sloughing and necrosis with uncommon septal wall hyalinization; 4-Multifocal cellular sloughing and necrosis with common and prominent hyaline membranes. \\n\\n Serum was collected and whole lungs were harvested on days 0, 2, and 4 p.i. Lungs were disrupted using a tissue homogenizer (Ultra-Turrax T25; IKA Works, Inc., Wilmington, NC) in Cell Lysis Buffer (eBioscience). Lung homogenates were centrifuged at 2000 rpm for 10 mins, and supernatants were collected. The protein levels of 20 different cytokines and chemokines in the lung and serum were determined using a ProcartaPlex Multiplex Immunoassay kit (eBioscience) according to the manufacturer's instructions. The assay was run on a BioPlex instrument (Bio-Rad, Hercules, CA). Lung and serum IFN-γ levels were determined by ELISA as previously described (eBioscience)  . Lung TNF levels were determined using a mouse TNF ELISA kit (Invitrogen) according to manufacturer's instructions. \\n\\n Lung and BAL were harvested from mice as previously described  . Spleens and mLN were gently dissociated between the frosted ends of microscope slides. Cells from the lung, BAL, spleen, mLN, and PBL were stained for extracellular surface molecules with antibodies specific to CD11c (clone N418), Siglec F (BD Biosciences, clone E50-2440), F4/80 (clone BM8), Ly6c (clone HK1.4), Ly6g (clone 1A8), CD49b (clone DX5), NKp46 (clone 29A1.4), CD11a (clone M17/4), CD90.2 (clone 53-2.1), CD3ε (clone 145-2C11), CD4 (clone GK1.5), CD8 (clone 53-6.7), CD69 (clone H1.2F3), and CD103 (clone 2E7) for 30 mins at 4˚C and fixed with fix/lyse solution (eBioscience) for 10 mins at room temperature. After extracellular staining, cells were stained for FoxP3 (eBioscience clone FJK-16s) with transcription factor staining buffer set (eBioscience) according to manufacturer's instructions. For intracellular cytokine staining, cells were stimulated for 5 hrs at 37˚C with 2 μM M2 82-90 peptide in 10% FCS-supplemented RPMI. Stimulated cells were stained for surface markers as indicated above and then stained intracellularly with antibodies specific to IFN-γ (clone XMG1.2) and TNF (clone MP6-XT22) in FACS buffer containing 0.5% saponin (Sigma-Aldrich) for 30 mins at 4˚C. Total numbers of cytokine producing cells were calculated after subtraction of background staining from BFA-only controls. All monoclonal antibodies were purchased from BioLegend unless otherwise stated. Stained cells were run on LSRFortessa and analyzed with FlowJo (Tree Star, Ashland, OR) software. Cell types were phenotyped as follows: CD8 T cells (CD90.2 + CD8 + ), CD4 T cells (CD90.2 + CD4 + ), Tregs (CD90.2 + CD4 + FoxP3 + ), NK cells (CD3ε -CD49b + NKp46 + ), monocytes (CD11c + F4/80 + ), eosinophils (SiglecF + CD11c lo ), and neutrophils (Siglec F -CD11c -Ly6c + Ly6g + ). \\n\\n Mice were injected i.v. with 1 μg CD45-FITC (CD45 labeled with fluorescein isothiocyanate) (clone 30-F11) antibody 3 mins prior to euthanasia. Cells from the lung were processed as previously described  . \\n\\n Analysis of IFN-γ-producing cells was performed using in vivo BFA Administration  . Mice were injected i.v. with 250 μg BFA (0.5 mg/mL; Sigma) in 500 μl PBS, and lungs, BAL, spleen, mLN, and PBL were harvested 6 hrs later. Leukocytes were stained as indicated above. \\n\\n All statistical analyses are described in each figure legend and were performed using Prism software (GraphPad Software, San Diego, CA). Data were evaluated using unpaired, two-tailed Student's t tests between two groups or one-way ANOVA with Tukey-Kramer post-test analyses for more than two groups to determine if there was a statistical significance of at least α = 0.05. Asterisks or pound signs are used to define a difference of statistical significance between the indicated group and its respective control group unless otherwise indicated by a line or stated in the figure legend.  \\n\\n \""
            ]
          },
          "metadata": {
            "tags": []
          },
          "execution_count": 14
        }
      ]
    },
    {
      "cell_type": "code",
      "metadata": {
        "id": "Hf6dEdhBrZGn",
        "colab_type": "code",
        "colab": {}
      },
      "source": [
        "abstract = test['Abstract'].tolist()"
      ],
      "execution_count": null,
      "outputs": []
    },
    {
      "cell_type": "code",
      "metadata": {
        "id": "5uCAtC2_rbXW",
        "colab_type": "code",
        "colab": {
          "base_uri": "https://localhost:8080/",
          "height": 54
        },
        "outputId": "c319bd29-0419-4dcf-ac30-e88f00ce3c62"
      },
      "source": [
        "abstract[0]"
      ],
      "execution_count": null,
      "outputs": [
        {
          "output_type": "execute_result",
          "data": {
            "text/plain": [
              "'Background: The spike glycoprotein (S) gene of the severe acute respiratory syndrome-associated coronavirus (SARS-CoV) has been useful in analyzing the molecular epidemiology of the 2003 SARS outbreaks. Objectives: To characterize complete SARS-CoV S-gene sequences from Hong Kong. Study design: Fifty-six SARS-CoV S-gene sequences, obtained from patients who presented with SARS to the Prince of Wales Hospital during March-May 2003, were analysed using a maximum likelihood (ML) approach, together with 138 other (both human and animal) S-gene sequences downloaded from GenBank. Results: The maximum-likelihood (ML) trees showed little evolution occurring within these 56 sequences. Analysis with the other sequences, showed three distinct SARS clusters, closely correlated to previously defined early, middle and late phases of the 2003 international SARS outbreaks. In addition, two new single nucleotide variations (SNVs), T21615A and T21901A, were discovered, not previously reported elsewhere.'"
            ]
          },
          "metadata": {
            "tags": []
          },
          "execution_count": 29
        }
      ]
    },
    {
      "cell_type": "code",
      "metadata": {
        "id": "UQDqxNGarjbe",
        "colab_type": "code",
        "colab": {
          "base_uri": "https://localhost:8080/",
          "height": 54
        },
        "outputId": "aaf0efa7-666c-4b9a-d6f1-e40d7cb68c96"
      },
      "source": [
        "body = test['Body'].tolist()\n",
        "body[0]"
      ],
      "execution_count": null,
      "outputs": [
        {
          "output_type": "execute_result",
          "data": {
            "text/plain": [
              "\"Since the severe acute respiratory syndrome (SARS) epidemic of 2003 around the world, many researchers have attempted to determine the natural reservoir of the SARS-associated coronavirus (SARS-CoV). Studies on the possible animal source of SARS-CoV have mainly focused on the Himalyan palm civet (Paguma larvata), though other animals (e.g. the raccoon dog, Nyctereutes procyonoides) have been shown to carry coronaviruses closely related to the SARS-CoV. Of note, these related animal coronaviruses possess a 29 base-pair sequence (position 27,869-27,897) in the 1386-6532/$ -see front matter © 2006 Elsevier B.V. All rights reserved. doi:10. 1016/j.jcv.2006.10.001 putative open reading frame (ORF) 11 (Marra et al., 2003) , that is absent in most human SARS-CoV isolates (Guan et al., 2003; Song et al., 2005) . A more recent study on SARS-CoV-like coronaviruses from palm civets and raccoon dogs from various live markets in China identified a series of single nucleotide variations (SNVs) in the SARS-CoV spike (S) glycoprotein gene (Kan et al., 2005) . The authors suggested that these SNVs marked the transmission of SARS-CoV-like viruses from these animals into humans during various phases of the SARS epidemic. Most recently, SARS-like CoV have been found in bats though the S-gene homology with SARS-CoV is low, around 80%, and it is still uncertain as to whether this is the true natural reservoir for SARS-CoV (Lau et al., 2005; Li et al., 2005; Poon et al., 2005a,b) . Guan et al.  described the genetic variation of the first 2149 bp of the S-gene, mainly focusing on the S1 (amino) region. This study compared local SARS-CoV S1 gene sequences collected from 137 Hong Kong SARS patients from February to April 2003, with 27 other sequences then available from GenBank, using neighbour-joining (NJ) phylogenetic analysis. The authors concluded that the international SARS epidemics were caused by closely related SARS-CoVs. However, some strains isolated from Hong Kong in the early phase of epidemic, were distinct from the international outbreak strain, and may have represented transitory strains of SARS-CoV (Chim et al., 2004) . Furthermore, analysis of SARS-CoV strains subsequently isolated from China suggested that this virus may have been circulating there, unidentified, for some time before the international epidemic occurred (Chinese SARS Molecular Epidemiology Consortium, CSMEC, 2004; Zhao et al., 2004) . \\n\\n In order to further characterize the evolution of SARS-CoV, S-gene sequences of isolates from patients in Hong Kong were analysed using a maximum likelihood (ML) method, and any new SNVs documented. \\n\\n Patients with laboratory-confirmed SARS-CoV infection admitted to the New Territories East Cluster Hospitals in Hong Kong were included (Chan et al., 2004) . For each patient, a stored original clinical sample (CS), or its primary isolate from tissue culture (TC) when the original sample has been exhausted, was retrieved for this study. The nucleotide sequence of the whole S-gene was obtained by direct sequencing. Briefly, the extracted RNA was amplified with two sets of overlapping primers using Superscript TM III One-Step RT-PCR System with Platinum Taq DNA polymerase (Invitrogen, Life Technology, Carlsbad, CA). Purified PCR products were sequenced using six internal sequencing primers using BigDye ® Terminator v3.1 Cycle Sequencing Kit (Applied Biosystems, Foster City, CA). Their sequences were edited and aligned using the Seqscape v2.1.1 software (Applied Biosystems, Foster City, CA). \\n\\n All 56 Hong Kong S-gene sequences obtained in this study were deposited on the National Center for Biotechnology Information Genome Database (GenBank, accession numbers: DQ412574-DQ412629). \\n\\n The S-gene sequences were aligned using the Clustal X's multiple alignment algorithm, then manually checked and edited using Bioedit v7.0.4.1 (Tippmann, 2004) . After alignment and editing, the total length of the S-gene sequences was 3759 bp. A maximum likelihood (ML) tree were then constructed using the program PAUP * v4.0b10 (Swofford, 2001 ) under an optimum model of evolution as selected by the program Modeltest v3.7 (Posada and Crandall, 1998) . The robustness of the trees' topology was statistically assessed by bootstrap analysis, with a minimum of 1000 rounds of replication. To put these 56 CUHK S-gene sequences in context, 138 other S-gene sequences were downloaded from the Gen-Bank and these 194 S-gene sequences were drawn, using the same methods above. Both trees were rooted against a civet cat sequence (CIV007, AY572034), and plotted using NJPlot (Perrière and Gouy, 1996) . \\n\\n A total of 56 SARS patients were included in this study (mean age 54.8, S.D. 21.9 years, 21 males). These patients all became ill during March-May 2003. Samples for analysis were collected after a mean of 5.9 (S.D. 4.8) days after illness onset. Table 1 shows the specimen type and numbers used in this study, 11 were original clinical samples (CS) and 45 were primary tissue culture isolates (TC). \\n\\n The ML trees in Figs. 1 and 2 were both constructed using a Kimura three-parameters model of base substitution with unequal base frequencies, a proportion of invariant sites and a gamma-distributed site substitution rate (K81uf + I + G), as selected by Modeltest under Akaike Information Criteria, using a nearest-neighbor interchange heuristic search strategy in PAUP * . Fig. 1 shows the S-gene sequences obtained from the 56 Hong Kong patients, rooted against CIV007. The dates in the sample names are dates of fever onset for that patient. Despite the apparent multiple branching topology, there are no significant branches (all bootstrap values < 70). The homology of these CUHK 56 S-gene sequences was 99-100% Fig. 2 shows the position of these 56 sequences within the other 138 S-gene sequences downloaded from Gen-Bank. Only bootstrap values > 70 are shown. Three distinct clusters can be seen, the sequences of which have been characterized and discussed elsewhere (CSMEC, 2004; Kan et al., 2005; Lan et al., 2005; Song et al., 2005; Wang et al., 2005; Yeh et al., 2004) . All the CUHK S-gene sequence lie within cluster 3 'worldwide', together with other S-gene sequences from Hong Kong (CUHK-W1, AY278554; CUHK-AG01, AY345986; CUHK-AG02, AY345987; CUHK-AG03, AY345988; CUHK-Su10, AY282752; HKU-39849, AY278491). \\n\\n When aligned and compared with the TOR-2 reference strain (AY274119), four single nucleotide variations (SNVs) were found in a large proportion of the CUHK S-gene sequences, as shown in Table 2 . \\n\\n Since the end of the 2003 SARS epidemic, SARS-CoV has only reappeared a few times, sporadically, and only affecting a few people (WHO, 2003; Lim et al., 2004; WHO, 2004a,b) . No further SARS epidemics have been identified. Therefore, the 56 samples analysed in this study, collected over a 3-month period during the SARS epidemic in Hong Kong (March-June 2003) , represent one of the longest continuous periods over which SARS-CoV has been investigated for any viral mutation and evolution within a human population. \\n\\n As shown in Fig. 1 , these 56 CUHK sequences are all very similar, lying in Fig. 2's cluster 3 ' worldwide' S-gene sequences. The pattern in Fig. 2 shows that SARS-CoV S-gene sequences isolated from some Guangdong patients and animals from Beijing and Guangdong cluster together (cluster 1 'mainland'). This correlates well with the early phase of the SARS epidemic, as has been defined previously (CSMEC, 2004; Song et al., 2005) . Next, there is a transi-tional region seen, most likely to represent the spread of the SARS epidemic within Guangdong, and then out to Beijing and Hong Kong, then the rest of the world (cluster 2 'Guangdong'). This corresponds well with the late-early and middle phase of the SARS epidemic (CSMEC, 2004; Ruan et al., 2003; Song et al., 2005) . Finally, the S-gene sequences from this study together with those obtained from outside Hong Kong and China (cluster 3 'worldwide'), are representative of the middle-to-late phase of the SARS epidemics (CSMEC, 2004) . \\n\\n It has been well established for almost 20 years that the ML approach is more accurate for reconstructing tree phylogenies, though the NJ approach is still widely used as it is much less demanding in terms of computational power and time (Hillis et al., 1994; Huelsenbeck and Hillis, 1993; Page and Holmes, 1998; Saitou, 1988; Saitou and Imanishi, 1989) . Therefore, it is reassuring that this more complex and demanding ML approach, using optimal models of evolution as described here, with these complete S-gene sequences, independently supports previous NJ analysis of the epidemiology of the 2003 SARS outbreaks (e.g. the Kimura twoparameter distance method used by the CSMEC, 2004, Fig. 6 ). Due to the availability of more data, Fig. 2 contains more sequences spread over a longer time-frame, and the clusters appear more clearly defined, than the similar figure presented by the CSMEC (2004, Fig. 6 ). \\n\\n It is possible that using tissue cultured (TC) isolates for Sgene sequence analysis may have introduced some new mutations, not otherwise present in the original clinical samples (CS). Poon et al. (2005a,b) reported non-synonymous mutations occurring in the S, membrane and ORF 8a protein coding genes, during the passaging of SARS-CoV through nonhuman primate cell lines (FRhK4 and Vero E6). Within the S-gene region they found mutations at positions (with respect to the TOR-2): C23412T, A23473G, C23518T, C23632T, C24864T, and A24978G. Tong et al.  also reported two tissue-culture (Vero E6)-associated mutations (with reference to the SARS-CoV Urbani strain): T21938C and T24872C. In this study, we did not find any of these previously reported mutations, however, there were mutations found mainly in the TC samples (T21615A and T21901A) that have not been previously reported elsewhere. These are most likely to be tissue-culture associated mutations. It is interesting that the T21615A mutation results in a stop codon, yet still manages to produce a viable virus in tissue culture. \\n\\n Several studies have documented various SNVs in the SARS-CoV genome, with some even proposing them as the basis for a genotypic classification (Poon et al., 2005a,b; Ruan et al., 2003; Tsui et al., 2003; Wang et al., 2005; Yeh et al., 2004) . In this study, the SNV G23220T that was found in all of the patients (56/56, 100%) has been reported elsewhere (Yeh et al., 2004) , though the functional significance of this is presently uncertain. The 100% prevalence of this SNV in these samples strongly suggests that a non-TOR-2-like strain of SARS-CoV has infected these Hong Kong patients, rather than this being an example of natural selection or of SARS-CoV behaving as a quasispecies. \\n\\n The second, less frequently found SNV (C25114T) present in 17/56 (30.4%) of these S-gene sequences has also been found in four sequences from Guangdong (GUAN LC2, AY394999; GUAN LC3, AY395000; GUAN LC4, AY395001; GUAN LC5, AY395002, but not in GUAN LC1, AY394998), of which GUAN LC3 and GUAN LC5 have been previously reported by Wang et al.  . The 17 CUHK S-gene sequences containing this polymorphism all occur in samples collected towards the end of the SARS outbreaks in Hong Kong (from 4 April to 31 May 2003). Unfortunately, we do not know on what date the GUAN LC2/LC3/LC4/LC5 samples were taken (they are unpublished sequences that were submitted to GenBank on 19 September 2003), and it is therefore difficult to ascertain whether this SNV represents ongoing host-adaptive evolution. All of these 56 CUHK samples came from patients admitted to Hong Kong's New Territories East hospital cluster during this period. The 17/56 patients carrying this C25114T mutation may have acquired their virus via a chain of contacts infected with this particular virus, or this mutation occurred in all of these viruses independently, perhaps in response to some common, unknown selection pressure. Therefore, without a more accurate epidemic history for this particular virus, it is hard to say whether this is a founder effect or natural selection acting upon the virus towards the end of the Hong Kong 2003 SARS outbreaks. \\n\\n In summary, the analysis of 56 complete SARS-CoV Sgene sequences from Hong Kong in this study using ML analysis confirms the previous epidemiology of SARS-CoV obtained using mostly NJ analysis. It also describes two new SNVs that are most likely to be associated with the tissueculture passage of SARS-CoV. \\n\\n \""
            ]
          },
          "metadata": {
            "tags": []
          },
          "execution_count": 30
        }
      ]
    },
    {
      "cell_type": "code",
      "metadata": {
        "id": "34umn2CTrnMW",
        "colab_type": "code",
        "colab": {}
      },
      "source": [
        "scores = evaluator.get_scores(total, abstract[0])"
      ],
      "execution_count": null,
      "outputs": []
    },
    {
      "cell_type": "code",
      "metadata": {
        "id": "TZZomQAGrsyz",
        "colab_type": "code",
        "colab": {
          "base_uri": "https://localhost:8080/",
          "height": 121
        },
        "outputId": "14a05605-11fc-4ac0-a4b4-9c5b9bba1895"
      },
      "source": [
        "for metric, results in sorted(scores.items(), key=lambda x: x[0]):\n",
        "        if not apply_avg and not apply_best: # value is a type of list as we evaluate each summary vs each reference\n",
        "            for hypothesis_id, results_per_ref in enumerate(results):\n",
        "                nb_references = len(results_per_ref['p'])\n",
        "                for reference_id in range(nb_references):\n",
        "                    print('\\tHypothesis #{} & Reference #{}: '.format(hypothesis_id, reference_id))\n",
        "                    print('\\t' + prepare_results(results_per_ref['p'][reference_id], results_per_ref['r'][reference_id], results_per_ref['f'][reference_id]))\n",
        "            print()\n",
        "        else:\n",
        "            print(prepare_results(results['p'], results['r'], results['f']))"
      ],
      "execution_count": null,
      "outputs": [
        {
          "output_type": "stream",
          "text": [
            "\trouge-1:\tP: 43.40\tR: 41.82\tF1: 42.59\n",
            "\trouge-2:\tP: 16.19\tR: 15.60\tF1: 15.89\n",
            "\trouge-3:\tP:  5.77\tR:  5.56\tF1:  5.66\n",
            "\trouge-4:\tP:  2.91\tR:  2.80\tF1:  2.86\n",
            "\trouge-l:\tP: 35.90\tR: 34.80\tF1: 35.34\n",
            "\trouge-w:\tP: 18.84\tR:  7.09\tF1: 10.30\n"
          ],
          "name": "stdout"
        }
      ]
    },
    {
      "cell_type": "code",
      "metadata": {
        "id": "SnDyzqBwsEgU",
        "colab_type": "code",
        "colab": {}
      },
      "source": [
        "first_four = torch.load(\"/content/drive/My Drive/COVID-19/dataset/predictions/shaiban_model/first_four_documents_predicted_list.pt\")"
      ],
      "execution_count": null,
      "outputs": []
    },
    {
      "cell_type": "code",
      "metadata": {
        "id": "fR4jPK2xzqU1",
        "colab_type": "code",
        "colab": {
          "base_uri": "https://localhost:8080/",
          "height": 34
        },
        "outputId": "14333a10-b2dc-464b-b801-5afbf0060ac6"
      },
      "source": [
        "len(first_four)"
      ],
      "execution_count": null,
      "outputs": [
        {
          "output_type": "execute_result",
          "data": {
            "text/plain": [
              "4"
            ]
          },
          "metadata": {
            "tags": []
          },
          "execution_count": 8
        }
      ]
    },
    {
      "cell_type": "code",
      "metadata": {
        "id": "ZeeIAvbmzrRY",
        "colab_type": "code",
        "colab": {}
      },
      "source": [
        "from tqdm import tqdm\n",
        "all_predictions = []\n",
        "for i in first_four:\n",
        "  total = ''\n",
        "  for j in i:\n",
        "    total += str(j)\n",
        "  all_predictions.append(total)"
      ],
      "execution_count": null,
      "outputs": []
    },
    {
      "cell_type": "code",
      "metadata": {
        "id": "EHUn2e930YKj",
        "colab_type": "code",
        "colab": {}
      },
      "source": [
        "five_to_fifty = torch.load(\"/content/drive/My Drive/COVID-19/dataset/predictions/shaiban_model/five_to_fifty_documents_predicted_list.pt\")"
      ],
      "execution_count": null,
      "outputs": []
    },
    {
      "cell_type": "code",
      "metadata": {
        "id": "3owSIU3P0ZPz",
        "colab_type": "code",
        "colab": {}
      },
      "source": [
        "for i in five_to_fifty:\n",
        "  total = ''\n",
        "  for j in i:\n",
        "    total += str(j)\n",
        "  all_predictions.append(total)"
      ],
      "execution_count": null,
      "outputs": []
    },
    {
      "cell_type": "code",
      "metadata": {
        "id": "XaFtzC8e1Md8",
        "colab_type": "code",
        "colab": {}
      },
      "source": [
        "import torch\n",
        "test = torch.load(\"/content/drive/My Drive/COVID-19/dataset/LATEST/test.pt\")"
      ],
      "execution_count": null,
      "outputs": []
    },
    {
      "cell_type": "code",
      "metadata": {
        "id": "5JOTJfOAdeYk",
        "colab_type": "code",
        "colab": {}
      },
      "source": [
        "first_four = torch.load(\"/content/drive/My Drive/COVID-19/dataset/predictions/shaiban_model/first_four_documents_predicted_list.pt\")\n",
        "five_to_fifty = torch.load(\"/content/drive/My Drive/COVID-19/dataset/predictions/shaiban_model/five_to_fifty_documents_predicted_list.pt\")\n",
        "fifty_to_eighty = torch.load(\"/content/drive/My Drive/COVID-19/dataset/predictions/shaiban_model/from_fifty_to_eighty_documents_predicted_list.pt\")\n",
        "eighty_to_hundred = torch.load(\"/content/drive/My Drive/COVID-19/dataset/predictions/shaiban_model/from_eighty_to_hundred_documents_predicted_list.pt\")"
      ],
      "execution_count": null,
      "outputs": []
    },
    {
      "cell_type": "code",
      "metadata": {
        "id": "Hy2KKp02deNC",
        "colab_type": "code",
        "colab": {}
      },
      "source": [
        "for i in fifty_to_eighty:\n",
        "  total = ''\n",
        "  for j in i:\n",
        "    total += str(j)\n",
        "  all_predictions.append(total)"
      ],
      "execution_count": null,
      "outputs": []
    },
    {
      "cell_type": "code",
      "metadata": {
        "id": "21ozebsIOyrF",
        "colab_type": "code",
        "colab": {}
      },
      "source": [
        "for i in eighty_to_hundred:\n",
        "  total = ''\n",
        "  for j in i:\n",
        "    total += str(j)\n",
        "  all_predictions.append(total)"
      ],
      "execution_count": null,
      "outputs": []
    },
    {
      "cell_type": "code",
      "metadata": {
        "id": "6bYcLgpo1TiS",
        "colab_type": "code",
        "colab": {}
      },
      "source": [
        "abstract = test['Abstract'].tolist()"
      ],
      "execution_count": null,
      "outputs": []
    },
    {
      "cell_type": "code",
      "metadata": {
        "id": "ypMqxtXE1X32",
        "colab_type": "code",
        "colab": {
          "base_uri": "https://localhost:8080/",
          "height": 34
        },
        "outputId": "6d48dc90-15bc-4332-f23d-a875dbcb29c4"
      },
      "source": [
        "len(all_predictions)"
      ],
      "execution_count": null,
      "outputs": [
        {
          "output_type": "execute_result",
          "data": {
            "text/plain": [
              "109"
            ]
          },
          "metadata": {
            "tags": []
          },
          "execution_count": 23
        }
      ]
    },
    {
      "cell_type": "code",
      "metadata": {
        "id": "hht5xeX_1axm",
        "colab_type": "code",
        "colab": {
          "base_uri": "https://localhost:8080/",
          "height": 34
        },
        "outputId": "a9ac5005-43ea-476e-cb76-7ee99664a27f"
      },
      "source": [
        "len(abstract[0:109])"
      ],
      "execution_count": null,
      "outputs": [
        {
          "output_type": "execute_result",
          "data": {
            "text/plain": [
              "109"
            ]
          },
          "metadata": {
            "tags": []
          },
          "execution_count": 24
        }
      ]
    },
    {
      "cell_type": "code",
      "metadata": {
        "id": "_PBHJzY21frc",
        "colab_type": "code",
        "colab": {}
      },
      "source": [
        "scores = evaluator.get_scores(all_predictions, abstract[0:109])"
      ],
      "execution_count": null,
      "outputs": []
    },
    {
      "cell_type": "code",
      "metadata": {
        "id": "rklFUANW1mjw",
        "colab_type": "code",
        "colab": {
          "base_uri": "https://localhost:8080/",
          "height": 121
        },
        "outputId": "7daf92dc-18bb-46bf-f04d-c5708197a8d3"
      },
      "source": [
        "for metric, results in sorted(scores.items(), key=lambda x: x[0]):\n",
        "        if not apply_avg and not apply_best: # value is a type of list as we evaluate each summary vs each reference\n",
        "            for hypothesis_id, results_per_ref in enumerate(results):\n",
        "                nb_references = len(results_per_ref['p'])\n",
        "                for reference_id in range(nb_references):\n",
        "                    print('\\tHypothesis #{} & Reference #{}: '.format(hypothesis_id, reference_id))\n",
        "                    print('\\t' + prepare_results(results_per_ref['p'][reference_id], results_per_ref['r'][reference_id], results_per_ref['f'][reference_id]))\n",
        "            print()\n",
        "        else:\n",
        "            print(prepare_results(results['p'], results['r'], results['f']))"
      ],
      "execution_count": null,
      "outputs": [
        {
          "output_type": "stream",
          "text": [
            "\trouge-1:\tP: 17.78\tR: 20.95\tF1: 18.61\n",
            "\trouge-2:\tP:  1.15\tR:  1.33\tF1:  1.20\n",
            "\trouge-3:\tP:  0.11\tR:  0.14\tF1:  0.11\n",
            "\trouge-4:\tP:  0.04\tR:  0.03\tF1:  0.04\n",
            "\trouge-l:\tP: 15.31\tR: 17.81\tF1: 16.05\n",
            "\trouge-w:\tP:  7.30\tR:  3.76\tF1:  4.65\n"
          ],
          "name": "stdout"
        }
      ]
    },
    {
      "cell_type": "code",
      "metadata": {
        "id": "_CUzB1iFwrCZ",
        "colab_type": "code",
        "colab": {}
      },
      "source": [
        "abstract = test['Abstract'].tolist()\n",
        "body = test['Body'].tolist()"
      ],
      "execution_count": null,
      "outputs": []
    },
    {
      "cell_type": "code",
      "metadata": {
        "id": "dcN-9GCJxPYA",
        "colab_type": "code",
        "colab": {
          "base_uri": "https://localhost:8080/",
          "height": 34
        },
        "outputId": "29f836b0-dc4c-4f4e-9715-f866f105b77c"
      },
      "source": [
        "isinstance(body[0:5], list)"
      ],
      "execution_count": null,
      "outputs": [
        {
          "output_type": "execute_result",
          "data": {
            "text/plain": [
              "True"
            ]
          },
          "metadata": {
            "tags": []
          },
          "execution_count": 45
        }
      ]
    },
    {
      "cell_type": "code",
      "metadata": {
        "id": "zkoXJSw9w02u",
        "colab_type": "code",
        "colab": {}
      },
      "source": [
        "import pandas as pd\n",
        "sample_df = pd.DataFrame()\n",
        "sample_df['Main Document'] = body[0:5]\n",
        "sample_df['Abstract'] = abstract[0:5]\n",
        "sample_df['Machine Generated Summary'] = all_predictions[0:5]"
      ],
      "execution_count": null,
      "outputs": []
    },
    {
      "cell_type": "code",
      "metadata": {
        "id": "H3L5L9fWxKky",
        "colab_type": "code",
        "colab": {
          "base_uri": "https://localhost:8080/",
          "height": 206
        },
        "outputId": "15c9a55f-8883-4745-db52-6e577df34522"
      },
      "source": [
        "sample_df"
      ],
      "execution_count": null,
      "outputs": [
        {
          "output_type": "execute_result",
          "data": {
            "text/html": [
              "<div>\n",
              "<style scoped>\n",
              "    .dataframe tbody tr th:only-of-type {\n",
              "        vertical-align: middle;\n",
              "    }\n",
              "\n",
              "    .dataframe tbody tr th {\n",
              "        vertical-align: top;\n",
              "    }\n",
              "\n",
              "    .dataframe thead th {\n",
              "        text-align: right;\n",
              "    }\n",
              "</style>\n",
              "<table border=\"1\" class=\"dataframe\">\n",
              "  <thead>\n",
              "    <tr style=\"text-align: right;\">\n",
              "      <th></th>\n",
              "      <th>Main Document</th>\n",
              "      <th>Abstract</th>\n",
              "      <th>Machine Generated Summary</th>\n",
              "    </tr>\n",
              "  </thead>\n",
              "  <tbody>\n",
              "    <tr>\n",
              "      <th>0</th>\n",
              "      <td>Since the severe acute respiratory syndrome (S...</td>\n",
              "      <td>Background: The spike glycoprotein (S) gene of...</td>\n",
              "      <td>[' The SARS-associated coronavirus (SARS-CoV) ...</td>\n",
              "    </tr>\n",
              "    <tr>\n",
              "      <th>1</th>\n",
              "      <td>A swine-origin influenza A/H1N1 virus that aro...</td>\n",
              "      <td>Influenza usually spreads through the human po...</td>\n",
              "      <td>[\" A swine-origin influenza A/H1N1 virus that ...</td>\n",
              "    </tr>\n",
              "    <tr>\n",
              "      <th>2</th>\n",
              "      <td>The smart adaptation of cities against differe...</td>\n",
              "      <td>Touristic cities will suffer from COVID-19 eme...</td>\n",
              "      <td>[\" The smart adaptation of cities against diff...</td>\n",
              "    </tr>\n",
              "    <tr>\n",
              "      <th>3</th>\n",
              "      <td>Influenza viruses cause serious global economi...</td>\n",
              "      <td>Background. Effective influenza surveillance r...</td>\n",
              "      <td>[\" Influenza viruses cause serious global econ...</td>\n",
              "    </tr>\n",
              "    <tr>\n",
              "      <th>4</th>\n",
              "      <td>a1111111111 a1111111111 a1111111111 a111111111...</td>\n",
              "      <td>Memory CD8 T cells can provide protection from...</td>\n",
              "      <td>[' Liquid impingers have been utilized for aer...</td>\n",
              "    </tr>\n",
              "  </tbody>\n",
              "</table>\n",
              "</div>"
            ],
            "text/plain": [
              "                                       Main Document  ...                          Machine Generated Summary\n",
              "0  Since the severe acute respiratory syndrome (S...  ...  [' The SARS-associated coronavirus (SARS-CoV) ...\n",
              "1  A swine-origin influenza A/H1N1 virus that aro...  ...  [\" A swine-origin influenza A/H1N1 virus that ...\n",
              "2  The smart adaptation of cities against differe...  ...  [\" The smart adaptation of cities against diff...\n",
              "3  Influenza viruses cause serious global economi...  ...  [\" Influenza viruses cause serious global econ...\n",
              "4  a1111111111 a1111111111 a1111111111 a111111111...  ...  [' Liquid impingers have been utilized for aer...\n",
              "\n",
              "[5 rows x 3 columns]"
            ]
          },
          "metadata": {
            "tags": []
          },
          "execution_count": 47
        }
      ]
    },
    {
      "cell_type": "code",
      "metadata": {
        "id": "ixCZRoA3ynIt",
        "colab_type": "code",
        "colab": {
          "base_uri": "https://localhost:8080/",
          "height": 54
        },
        "outputId": "b41a785e-8c7e-454b-edc6-5d1c63f9363c"
      },
      "source": [
        "body[0]"
      ],
      "execution_count": null,
      "outputs": [
        {
          "output_type": "execute_result",
          "data": {
            "text/plain": [
              "\"Since the severe acute respiratory syndrome (SARS) epidemic of 2003 around the world, many researchers have attempted to determine the natural reservoir of the SARS-associated coronavirus (SARS-CoV). Studies on the possible animal source of SARS-CoV have mainly focused on the Himalyan palm civet (Paguma larvata), though other animals (e.g. the raccoon dog, Nyctereutes procyonoides) have been shown to carry coronaviruses closely related to the SARS-CoV. Of note, these related animal coronaviruses possess a 29 base-pair sequence (position 27,869-27,897) in the 1386-6532/$ -see front matter © 2006 Elsevier B.V. All rights reserved. doi:10. 1016/j.jcv.2006.10.001 putative open reading frame (ORF) 11 (Marra et al., 2003) , that is absent in most human SARS-CoV isolates (Guan et al., 2003; Song et al., 2005) . A more recent study on SARS-CoV-like coronaviruses from palm civets and raccoon dogs from various live markets in China identified a series of single nucleotide variations (SNVs) in the SARS-CoV spike (S) glycoprotein gene (Kan et al., 2005) . The authors suggested that these SNVs marked the transmission of SARS-CoV-like viruses from these animals into humans during various phases of the SARS epidemic. Most recently, SARS-like CoV have been found in bats though the S-gene homology with SARS-CoV is low, around 80%, and it is still uncertain as to whether this is the true natural reservoir for SARS-CoV (Lau et al., 2005; Li et al., 2005; Poon et al., 2005a,b) . Guan et al.  described the genetic variation of the first 2149 bp of the S-gene, mainly focusing on the S1 (amino) region. This study compared local SARS-CoV S1 gene sequences collected from 137 Hong Kong SARS patients from February to April 2003, with 27 other sequences then available from GenBank, using neighbour-joining (NJ) phylogenetic analysis. The authors concluded that the international SARS epidemics were caused by closely related SARS-CoVs. However, some strains isolated from Hong Kong in the early phase of epidemic, were distinct from the international outbreak strain, and may have represented transitory strains of SARS-CoV (Chim et al., 2004) . Furthermore, analysis of SARS-CoV strains subsequently isolated from China suggested that this virus may have been circulating there, unidentified, for some time before the international epidemic occurred (Chinese SARS Molecular Epidemiology Consortium, CSMEC, 2004; Zhao et al., 2004) . \\n\\n In order to further characterize the evolution of SARS-CoV, S-gene sequences of isolates from patients in Hong Kong were analysed using a maximum likelihood (ML) method, and any new SNVs documented. \\n\\n Patients with laboratory-confirmed SARS-CoV infection admitted to the New Territories East Cluster Hospitals in Hong Kong were included (Chan et al., 2004) . For each patient, a stored original clinical sample (CS), or its primary isolate from tissue culture (TC) when the original sample has been exhausted, was retrieved for this study. The nucleotide sequence of the whole S-gene was obtained by direct sequencing. Briefly, the extracted RNA was amplified with two sets of overlapping primers using Superscript TM III One-Step RT-PCR System with Platinum Taq DNA polymerase (Invitrogen, Life Technology, Carlsbad, CA). Purified PCR products were sequenced using six internal sequencing primers using BigDye ® Terminator v3.1 Cycle Sequencing Kit (Applied Biosystems, Foster City, CA). Their sequences were edited and aligned using the Seqscape v2.1.1 software (Applied Biosystems, Foster City, CA). \\n\\n All 56 Hong Kong S-gene sequences obtained in this study were deposited on the National Center for Biotechnology Information Genome Database (GenBank, accession numbers: DQ412574-DQ412629). \\n\\n The S-gene sequences were aligned using the Clustal X's multiple alignment algorithm, then manually checked and edited using Bioedit v7.0.4.1 (Tippmann, 2004) . After alignment and editing, the total length of the S-gene sequences was 3759 bp. A maximum likelihood (ML) tree were then constructed using the program PAUP * v4.0b10 (Swofford, 2001 ) under an optimum model of evolution as selected by the program Modeltest v3.7 (Posada and Crandall, 1998) . The robustness of the trees' topology was statistically assessed by bootstrap analysis, with a minimum of 1000 rounds of replication. To put these 56 CUHK S-gene sequences in context, 138 other S-gene sequences were downloaded from the Gen-Bank and these 194 S-gene sequences were drawn, using the same methods above. Both trees were rooted against a civet cat sequence (CIV007, AY572034), and plotted using NJPlot (Perrière and Gouy, 1996) . \\n\\n A total of 56 SARS patients were included in this study (mean age 54.8, S.D. 21.9 years, 21 males). These patients all became ill during March-May 2003. Samples for analysis were collected after a mean of 5.9 (S.D. 4.8) days after illness onset. Table 1 shows the specimen type and numbers used in this study, 11 were original clinical samples (CS) and 45 were primary tissue culture isolates (TC). \\n\\n The ML trees in Figs. 1 and 2 were both constructed using a Kimura three-parameters model of base substitution with unequal base frequencies, a proportion of invariant sites and a gamma-distributed site substitution rate (K81uf + I + G), as selected by Modeltest under Akaike Information Criteria, using a nearest-neighbor interchange heuristic search strategy in PAUP * . Fig. 1 shows the S-gene sequences obtained from the 56 Hong Kong patients, rooted against CIV007. The dates in the sample names are dates of fever onset for that patient. Despite the apparent multiple branching topology, there are no significant branches (all bootstrap values < 70). The homology of these CUHK 56 S-gene sequences was 99-100% Fig. 2 shows the position of these 56 sequences within the other 138 S-gene sequences downloaded from Gen-Bank. Only bootstrap values > 70 are shown. Three distinct clusters can be seen, the sequences of which have been characterized and discussed elsewhere (CSMEC, 2004; Kan et al., 2005; Lan et al., 2005; Song et al., 2005; Wang et al., 2005; Yeh et al., 2004) . All the CUHK S-gene sequence lie within cluster 3 'worldwide', together with other S-gene sequences from Hong Kong (CUHK-W1, AY278554; CUHK-AG01, AY345986; CUHK-AG02, AY345987; CUHK-AG03, AY345988; CUHK-Su10, AY282752; HKU-39849, AY278491). \\n\\n When aligned and compared with the TOR-2 reference strain (AY274119), four single nucleotide variations (SNVs) were found in a large proportion of the CUHK S-gene sequences, as shown in Table 2 . \\n\\n Since the end of the 2003 SARS epidemic, SARS-CoV has only reappeared a few times, sporadically, and only affecting a few people (WHO, 2003; Lim et al., 2004; WHO, 2004a,b) . No further SARS epidemics have been identified. Therefore, the 56 samples analysed in this study, collected over a 3-month period during the SARS epidemic in Hong Kong (March-June 2003) , represent one of the longest continuous periods over which SARS-CoV has been investigated for any viral mutation and evolution within a human population. \\n\\n As shown in Fig. 1 , these 56 CUHK sequences are all very similar, lying in Fig. 2's cluster 3 ' worldwide' S-gene sequences. The pattern in Fig. 2 shows that SARS-CoV S-gene sequences isolated from some Guangdong patients and animals from Beijing and Guangdong cluster together (cluster 1 'mainland'). This correlates well with the early phase of the SARS epidemic, as has been defined previously (CSMEC, 2004; Song et al., 2005) . Next, there is a transi-tional region seen, most likely to represent the spread of the SARS epidemic within Guangdong, and then out to Beijing and Hong Kong, then the rest of the world (cluster 2 'Guangdong'). This corresponds well with the late-early and middle phase of the SARS epidemic (CSMEC, 2004; Ruan et al., 2003; Song et al., 2005) . Finally, the S-gene sequences from this study together with those obtained from outside Hong Kong and China (cluster 3 'worldwide'), are representative of the middle-to-late phase of the SARS epidemics (CSMEC, 2004) . \\n\\n It has been well established for almost 20 years that the ML approach is more accurate for reconstructing tree phylogenies, though the NJ approach is still widely used as it is much less demanding in terms of computational power and time (Hillis et al., 1994; Huelsenbeck and Hillis, 1993; Page and Holmes, 1998; Saitou, 1988; Saitou and Imanishi, 1989) . Therefore, it is reassuring that this more complex and demanding ML approach, using optimal models of evolution as described here, with these complete S-gene sequences, independently supports previous NJ analysis of the epidemiology of the 2003 SARS outbreaks (e.g. the Kimura twoparameter distance method used by the CSMEC, 2004, Fig. 6 ). Due to the availability of more data, Fig. 2 contains more sequences spread over a longer time-frame, and the clusters appear more clearly defined, than the similar figure presented by the CSMEC (2004, Fig. 6 ). \\n\\n It is possible that using tissue cultured (TC) isolates for Sgene sequence analysis may have introduced some new mutations, not otherwise present in the original clinical samples (CS). Poon et al. (2005a,b) reported non-synonymous mutations occurring in the S, membrane and ORF 8a protein coding genes, during the passaging of SARS-CoV through nonhuman primate cell lines (FRhK4 and Vero E6). Within the S-gene region they found mutations at positions (with respect to the TOR-2): C23412T, A23473G, C23518T, C23632T, C24864T, and A24978G. Tong et al.  also reported two tissue-culture (Vero E6)-associated mutations (with reference to the SARS-CoV Urbani strain): T21938C and T24872C. In this study, we did not find any of these previously reported mutations, however, there were mutations found mainly in the TC samples (T21615A and T21901A) that have not been previously reported elsewhere. These are most likely to be tissue-culture associated mutations. It is interesting that the T21615A mutation results in a stop codon, yet still manages to produce a viable virus in tissue culture. \\n\\n Several studies have documented various SNVs in the SARS-CoV genome, with some even proposing them as the basis for a genotypic classification (Poon et al., 2005a,b; Ruan et al., 2003; Tsui et al., 2003; Wang et al., 2005; Yeh et al., 2004) . In this study, the SNV G23220T that was found in all of the patients (56/56, 100%) has been reported elsewhere (Yeh et al., 2004) , though the functional significance of this is presently uncertain. The 100% prevalence of this SNV in these samples strongly suggests that a non-TOR-2-like strain of SARS-CoV has infected these Hong Kong patients, rather than this being an example of natural selection or of SARS-CoV behaving as a quasispecies. \\n\\n The second, less frequently found SNV (C25114T) present in 17/56 (30.4%) of these S-gene sequences has also been found in four sequences from Guangdong (GUAN LC2, AY394999; GUAN LC3, AY395000; GUAN LC4, AY395001; GUAN LC5, AY395002, but not in GUAN LC1, AY394998), of which GUAN LC3 and GUAN LC5 have been previously reported by Wang et al.  . The 17 CUHK S-gene sequences containing this polymorphism all occur in samples collected towards the end of the SARS outbreaks in Hong Kong (from 4 April to 31 May 2003). Unfortunately, we do not know on what date the GUAN LC2/LC3/LC4/LC5 samples were taken (they are unpublished sequences that were submitted to GenBank on 19 September 2003), and it is therefore difficult to ascertain whether this SNV represents ongoing host-adaptive evolution. All of these 56 CUHK samples came from patients admitted to Hong Kong's New Territories East hospital cluster during this period. The 17/56 patients carrying this C25114T mutation may have acquired their virus via a chain of contacts infected with this particular virus, or this mutation occurred in all of these viruses independently, perhaps in response to some common, unknown selection pressure. Therefore, without a more accurate epidemic history for this particular virus, it is hard to say whether this is a founder effect or natural selection acting upon the virus towards the end of the Hong Kong 2003 SARS outbreaks. \\n\\n In summary, the analysis of 56 complete SARS-CoV Sgene sequences from Hong Kong in this study using ML analysis confirms the previous epidemiology of SARS-CoV obtained using mostly NJ analysis. It also describes two new SNVs that are most likely to be associated with the tissueculture passage of SARS-CoV. \\n\\n \""
            ]
          },
          "metadata": {
            "tags": []
          },
          "execution_count": 48
        }
      ]
    },
    {
      "cell_type": "code",
      "metadata": {
        "id": "gK8gnm_rynFF",
        "colab_type": "code",
        "colab": {
          "base_uri": "https://localhost:8080/",
          "height": 54
        },
        "outputId": "d277ed81-adfd-42da-8a07-bfb842f6cbce"
      },
      "source": [
        "abstract[0]"
      ],
      "execution_count": null,
      "outputs": [
        {
          "output_type": "execute_result",
          "data": {
            "text/plain": [
              "'Background: The spike glycoprotein (S) gene of the severe acute respiratory syndrome-associated coronavirus (SARS-CoV) has been useful in analyzing the molecular epidemiology of the 2003 SARS outbreaks. Objectives: To characterize complete SARS-CoV S-gene sequences from Hong Kong. Study design: Fifty-six SARS-CoV S-gene sequences, obtained from patients who presented with SARS to the Prince of Wales Hospital during March-May 2003, were analysed using a maximum likelihood (ML) approach, together with 138 other (both human and animal) S-gene sequences downloaded from GenBank. Results: The maximum-likelihood (ML) trees showed little evolution occurring within these 56 sequences. Analysis with the other sequences, showed three distinct SARS clusters, closely correlated to previously defined early, middle and late phases of the 2003 international SARS outbreaks. In addition, two new single nucleotide variations (SNVs), T21615A and T21901A, were discovered, not previously reported elsewhere.'"
            ]
          },
          "metadata": {
            "tags": []
          },
          "execution_count": 49
        }
      ]
    },
    {
      "cell_type": "code",
      "metadata": {
        "id": "udCrUPU2ynAy",
        "colab_type": "code",
        "colab": {}
      },
      "source": [
        "b = all_predictions[3]"
      ],
      "execution_count": null,
      "outputs": []
    },
    {
      "cell_type": "code",
      "metadata": {
        "id": "DxwwAUoSAuy0",
        "colab_type": "code",
        "colab": {}
      },
      "source": [
        "a = all_predictions[0]"
      ],
      "execution_count": null,
      "outputs": []
    },
    {
      "cell_type": "code",
      "metadata": {
        "id": "YbmV6Nt6Bm2d",
        "colab_type": "code",
        "colab": {}
      },
      "source": [
        "c = all_predictions[4]"
      ],
      "execution_count": null,
      "outputs": []
    },
    {
      "cell_type": "code",
      "metadata": {
        "id": "rUjLoHUwBm0E",
        "colab_type": "code",
        "colab": {}
      },
      "source": [
        "pred_list = []\n",
        "pred_list.append(a)\n",
        "pred_list.append(b)\n",
        "pred_list.append(c)"
      ],
      "execution_count": null,
      "outputs": []
    },
    {
      "cell_type": "code",
      "metadata": {
        "id": "U5fMORH0Bmwl",
        "colab_type": "code",
        "colab": {}
      },
      "source": [
        "aa = \"In 2003, there was a severe acute respiratory syndrome (SARS) epidemic around the world. Since then, many researchers have attempted to determine the natural reservoir of the SARS-associated coronavirus (SARS-CoV). Studies suggested that, Himalyan Palm Civet is the possible source of SARS-COV.One recent study on SARS-CoV-like coronaviruses from palm civets and raccoon dogs from various live markets in China identified a series of single nucleotide variations (SNVs) in the SARS-CoV spike (S) glycoprotein gene. The authors are of the opinion that this variation most likely occurred during various phases of the SARS epidemic. Recently, SARS-CoV was also found in bats but it is still uncertain as to whether this is the true natural reservoir for SARS-CoV .The authors concluded that the international SARS epidemics were caused by closely related SARS-CoVs. However, some strains isolated from Hong Kong in the early phase of epidemic, were distinct from the international outbreak strain. To characterize the evolution of SARS-CoV, S-gene sequences of isolates from patients in Hong Kong were further analyzed using a maximum likelihood (ML) method and documented. Samples were collected from 56 SARS patients from Hong Kong during SARS-CoV pandemic.These patients all became ill during March-May 2003. Samples for analysis were collected after a mean of 5.9days after illness onset. The nucleotide sequence of the whole S-gene was obtained by direct sequencing. The extracted RNA was amplified with two sets of overlapping primers using Superscript TM III One-Step RT-PCR System with Platinum Taq DNA polymerase. Purified PCR products were sequenced using six internal sequencing primers. Their sequences were edited and aligned using the Seqscape v2.1.1 software. A maximum likelihood (ML) tree were then constructed using the program PAUP * v4.0b10 under an optimum model of evolution as selected by the program Modeltest v3.7.In the study, it was found that S-gene sequences obtained from the 56 Hong Kong patients, rooted against CIV007. However, the functional significance of SNV G23220T that was found in all of the patients has been reported elsewhere is presently uncertain. The second, less frequently found SNV (C25114T) present in 17/56 (30.4%) of these S-gene sequences has also been found in four sequences from Guangdong. The 17 CUHK S-gene sequences containing polymorphism were found in samples collected towards the end of the SARS outbreaks in Hong Kong. The 17/56 patients carrying this C25114T mutation may have acquired their virus via a chain of contacts infected with this particular virus, or this mutation occurred in all of these viruses independently, perhaps in response to some common, unknown selection pressure. The S-gene sequences from this study together with those obtained from outside Hong Kong and China, are representative of the middle-to-late phase of the SARS epidemics. Therefore, all the CUHK S-gene sequence lie within cluster 3 'worldwide', together with other S-gene sequences from Hong Kong. The present ML analysis confirms the previous epidemiology of SARS-CoV obtained using mostly NJ analysis. \""
      ],
      "execution_count": null,
      "outputs": []
    },
    {
      "cell_type": "code",
      "metadata": {
        "id": "mlQqPRAXCGPo",
        "colab_type": "code",
        "colab": {}
      },
      "source": [
        "bb = \"Respiratory Syncytial Virus (RSV) is a major cause of serious illness in young children , the elderly and the immunocompromised population. There is currently no licensed vaccine for RSV. A dendritic cell-Listeria monocytogenes (DC-LM) prime-boost immunization regimen has induced a high magnitude, RSV epitope-specific CD8 T cell responses in naive mice. A similar prime-boost immunization strategy has been shown to elicit protection against other respiratory viruses including influenza A virus (IAV) and severe acute respiratory syndrome coronavirus (SARS-CoV). The lethal immunopathology observed in immunized mice was caused by rapid and excessive IFN-γ production by memory CD8 T cells in the airways. Our studies reveal that memory CD8 T cells enhance RSV clearance similar to other viral infections, but are unique in that they mediate severe immunopathology caused by the overproduction of IFN-γ. Peptide-coated, mature DCs can be utilized to prime a CD8 T cell response that allows for robust secondary expansion following a booster immunization in mice. Our data suggest that systemic RSV-specific memory CD8 T cells are more prone to causing immunopathology, possibly in part due to their delay in reaching the lungs. However, the use of the human RSV challenge model cannot evaluate the protective capacity of memory CD8 T cells in the absence of RSV-specific memory CD4 T cells and antibodies as we have done here using our animal model. Thus, we believe our results are applicable to humans in cases where vaccination of an RSV seronegative individual would primarily elicit a CD8 T cell response. Consistent with their critical role in clearing an acute infection, a study by Weilliver et al. found that children with a fatal primary RSV infection had fewer CD8 T cells in their lung tissue than normal controls suggesting that patients with severe lower respiratory tract illness may have an insufficient cell-mediated immune response  . In contrast, a report by Heidema et al. examining CD8 T cells in the airways of infants with a severe primary RSV infection was able to readily identify RSV-specific CD8 T cells in the airways with no significant difference in the number recovered between infants with more versus less severe disease  . Thus, it is currently unclear if CD8 T cells contribute to immunopathology during an acute RSV infection in infants. Our study defines a clear role for memory CD8 T cells following RSV infection. Pre-existing CD8 T cell memory contributes to enhanced viral clearance upon RSV challenge, but also mediates severe immunopathology in contrast to many other viral infections. The outcome is compelling given the high rate of mortality, which is unusual in this RSV infection model. \""
      ],
      "execution_count": null,
      "outputs": []
    },
    {
      "cell_type": "code",
      "metadata": {
        "id": "nCx9Y9-ECGNd",
        "colab_type": "code",
        "colab": {}
      },
      "source": [
        "cc = \"The RT-PCR/ESI-MS method has the capacity to provide rapid diagnosis of human influenza in individual patients with respiratory symptoms, as well as public health surveillance of emerging, potentially pandemic strains, including novel reassortants. The use of RT-PCR/ESI-MS for human as well as avian/ animal surveillance offers the potential for new insights into viral evolution on a scale and at a cost previously not possible. Benchtop mass spectrometers are capable of analyzing complex PCR products at a rate of approximately one reaction product/minute, making the RT-PCR/ESI-MS technology practical for large-scale analysis of clinical specimens or for animal surveillance. Further, as we have demonstrated with influenza viruses, this method provides sensitive detection directly from patient specimens with specificity approximating sequence-level resolution. The ability to quantitate virus shedding, detect low-abundance, mixed infections, and identify new genetic variants without prior knowledge of viral sequence also make this technology ideally suited for monitoring the emergence of drug-resistance mutations during therapy or for identifying newly emerging antigenic variants. Sample processing Viral stock samples consisting of cultured virus or stocks obtained from ATCC were prepared for analysis using the Qiagen QiaAmp Virus kit (Valencia, CA). Both manual (mini spin) kits and BioRobot kits were used. Robotic-based isolations were done on both the Qiagen MDx and Qiagen BioRobot 8000 platforms. A surveillance panel of eight primer pairs (Table S1 ) was selected comprising one pan-influenza primer pair targeting the PB1 segment, five pan-influenza A primer pairs targeting NP, M1, PA, and the NS segments, and two pan-influenza B primer pairs targeting NP and PB2 segments. All primers used in this study had a thymine nucleotide at the 59 end to minimize addition of non-templated adenosines during amplification using Taq polymerase. Each of the primer pairs was sensitive to as few as twenty copies of the calibrant RNA and several primers were sensitive to five copies. To demonstrate the capabilities of RT-PCR/ESI-MS to track the evolution of circulating influenza viruses, we used a bioinformatic approach to develop a framework on which to display the RT-PCR/ ESI-MS results obtained with H3N2 viruses. Complete genome sequences of all H3N2 human influenza viruses available in GenBank were analyzed. A total of 731 genomes were included, from which we inferred the phylogeny of H3N2 influenza virus since 1996.  Base compositions were determined for each genome segment (i.e., locus) and each unique base composition at each of these loci was assigned a letter according to decreasing number of occurrences. Hence, the letter A represents the most common allele identified at each locus.The concatenation of the six base-composition letters from the PB1, NP, M1, PA, NS1, and NS2 loci from the sequences of 731 H3N2 viruses. The predominant type is labeled AAAAAA. The topology of the tree was deduced from the alignment of non-redundant sequences. Since the sequence types differ mostly by discrete single mutations, the original computer generated tree was then extensively edited using graphics tools to place the labels of intermediate types within the tree itself in lieu of zero-length branches. Unique base compositions at each genome segment locus analyzed were assigned letter codes and concatenation of letter codes across the six loci analyzed yielded BC-types. H1N1 samples were not assigned a BC-type. Experimentally determined BC-types (marked RT-PCR/ESI-MS Analysis results) were compared to BC-type signature information of sequences currently available in GenBank and the closest matching strain is shown.\""
      ],
      "execution_count": null,
      "outputs": []
    },
    {
      "cell_type": "code",
      "metadata": {
        "id": "JJg-uGSSCGLc",
        "colab_type": "code",
        "colab": {}
      },
      "source": [
        "human_list = []\n",
        "human_list.append(aa)\n",
        "human_list.append(bb)\n",
        "human_list.append(cc)"
      ],
      "execution_count": null,
      "outputs": []
    },
    {
      "cell_type": "code",
      "metadata": {
        "id": "XyFdHrUSCGIW",
        "colab_type": "code",
        "colab": {}
      },
      "source": [
        "scores = evaluator.get_scores(pred_list, human_list)"
      ],
      "execution_count": null,
      "outputs": []
    },
    {
      "cell_type": "code",
      "metadata": {
        "id": "csthQPUeCGEm",
        "colab_type": "code",
        "colab": {
          "base_uri": "https://localhost:8080/",
          "height": 121
        },
        "outputId": "abb6c896-855e-435b-9d34-6637e41964fd"
      },
      "source": [
        "for metric, results in sorted(scores.items(), key=lambda x: x[0]):\n",
        "        if not apply_avg and not apply_best: # value is a type of list as we evaluate each summary vs each reference\n",
        "            for hypothesis_id, results_per_ref in enumerate(results):\n",
        "                nb_references = len(results_per_ref['p'])\n",
        "                for reference_id in range(nb_references):\n",
        "                    print('\\tHypothesis #{} & Reference #{}: '.format(hypothesis_id, reference_id))\n",
        "                    print('\\t' + prepare_results(results_per_ref['p'][reference_id], results_per_ref['r'][reference_id], results_per_ref['f'][reference_id]))\n",
        "            print()\n",
        "        else:\n",
        "            print(prepare_results(results['p'], results['r'], results['f']))"
      ],
      "execution_count": null,
      "outputs": [
        {
          "output_type": "stream",
          "text": [
            "\trouge-1:\tP: 34.80\tR: 33.40\tF1: 34.07\n",
            "\trouge-2:\tP:  9.89\tR:  9.69\tF1:  9.79\n",
            "\trouge-3:\tP:  4.82\tR:  4.73\tF1:  4.77\n",
            "\trouge-4:\tP:  2.27\tR:  2.22\tF1:  2.24\n",
            "\trouge-l:\tP: 24.21\tR: 23.31\tF1: 23.74\n",
            "\trouge-w:\tP: 12.49\tR:  4.70\tF1:  6.82\n"
          ],
          "name": "stdout"
        }
      ]
    },
    {
      "cell_type": "code",
      "metadata": {
        "id": "CwSHzbclBmtQ",
        "colab_type": "code",
        "colab": {}
      },
      "source": [
        ""
      ],
      "execution_count": null,
      "outputs": []
    },
    {
      "cell_type": "code",
      "metadata": {
        "id": "pQpW6Yd-Azdw",
        "colab_type": "code",
        "colab": {}
      },
      "source": [
        "ed and purified using a weak anion exchange protocol as described elsewhere. Accurate mass (61 ppm), high-resolution (M/dM.100,000\\'][\\' Objective: To demonstrate the capabilities of RT-PCR/ESI-MS to track the evolution of circulating influenza viruses, we used a bioinformatic approach to develop a framework on which to display the results obtained with H3N2 viruses. A total of 731 genomes were included, from which we inferred the phylogeny of H1N1 and H2N1 influenza viruses since 1996.\\'][\\' Background: The nucleotide sequences of 731 H3N2 viruses are available in the GenBank database. We concatenated the six base-composition letters from the PB1, NP, M1, PA, NS1, and NS2 loci from the sequences of these viruses into 95 six-letter codes. The predominant type is labeled AAAAAA. The topology of the tree was then deduced from the alignment of non-redundant sequences using the programs dnadist and neighbor from the Phylip package.\\'][\\' The limits of detection for each RT-PCR primer pair were determined using known quantities of a synthetic calibrant RNA template. d; however, the primer sequences are not identical to the reference sequence as described in the Methods. Unique base compositions at each genome segment locus analyzed were assigned letter codes and concatenation of letter codes across the six loci analyzed yielded BC-types. H1N1 samples were not assigned a BC-type."
      ],
      "execution_count": null,
      "outputs": []
    },
    {
      "cell_type": "code",
      "metadata": {
        "id": "W-COsZl01yzj",
        "colab_type": "code",
        "colab": {}
      },
      "source": [
        "without_appending = []\n",
        "for i in first_four:\n",
        "  without_appending.append(i)\n",
        "\n",
        "for i in five_to_fifty:\n",
        "  without_appending.append(i)"
      ],
      "execution_count": null,
      "outputs": []
    },
    {
      "cell_type": "code",
      "metadata": {
        "id": "03AfMEk22Vg6",
        "colab_type": "code",
        "colab": {}
      },
      "source": [
        ""
      ],
      "execution_count": null,
      "outputs": []
    }
  ]
}